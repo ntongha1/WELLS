{
  "nbformat": 4,
  "nbformat_minor": 0,
  "metadata": {
    "colab": {
      "name": "PDDA_1st_CAT-XGBOOST_REGRESSOR_.ipynb",
      "provenance": [],
      "toc_visible": true
    },
    "kernelspec": {
      "name": "python3",
      "display_name": "Python 3"
    }
  },
  "cells": [
    {
      "cell_type": "markdown",
      "metadata": {
        "id": "h2cc1srp7W-S",
        "colab_type": "text"
      },
      "source": [
        "# Importing and Installing Libraries"
      ]
    },
    {
      "cell_type": "code",
      "metadata": {
        "id": "TU-qCU9F6zCV",
        "colab_type": "code",
        "outputId": "8ddc6718-b647-438b-defa-8a328307ff4a",
        "colab": {
          "base_uri": "https://localhost:8080/",
          "height": 72
        }
      },
      "source": [
        "import pandas as pd\n",
        "import numpy as np\n",
        "import matplotlib.pyplot as plt\n",
        "import seaborn as sns\n",
        "from sklearn.preprocessing import StandardScaler\n",
        "scaler = StandardScaler()\n",
        "import warnings\n",
        "warnings.filterwarnings('ignore')\n",
        "\n",
        "from math import sqrt \n",
        "import lightgbm as lgb\n",
        "from sklearn.metrics import mean_squared_error \n",
        "from sklearn.model_selection import KFold, train_test_split\n",
        "import requests\n",
        "from io import StringIO \n",
        "%matplotlib inline\n",
        "pd.set_option(\"display.max_rows\", 100)\n",
        "pd.set_option(\"display.max_columns\", 100)"
      ],
      "execution_count": 0,
      "outputs": [
        {
          "output_type": "stream",
          "text": [
            "/usr/local/lib/python3.6/dist-packages/statsmodels/tools/_testing.py:19: FutureWarning: pandas.util.testing is deprecated. Use the functions in the public API at pandas.testing instead.\n",
            "  import pandas.util.testing as tm\n"
          ],
          "name": "stderr"
        }
      ]
    },
    {
      "cell_type": "code",
      "metadata": {
        "id": "MWmp5f8U7k_6",
        "colab_type": "code",
        "outputId": "f4e5c8e8-1a0c-4342-a46f-8d482c21a144",
        "colab": {
          "base_uri": "https://localhost:8080/",
          "height": 329
        }
      },
      "source": [
        "!pip install catboost"
      ],
      "execution_count": 0,
      "outputs": [
        {
          "output_type": "stream",
          "text": [
            "Collecting catboost\n",
            "\u001b[?25l  Downloading https://files.pythonhosted.org/packages/94/ec/12b9a42b2ea7dfe5b602f235692ab2b61ee1334ff34334a15902272869e8/catboost-0.22-cp36-none-manylinux1_x86_64.whl (64.4MB)\n",
            "\u001b[K     |████████████████████████████████| 64.4MB 66kB/s \n",
            "\u001b[?25hRequirement already satisfied: scipy in /usr/local/lib/python3.6/dist-packages (from catboost) (1.4.1)\n",
            "Requirement already satisfied: six in /usr/local/lib/python3.6/dist-packages (from catboost) (1.12.0)\n",
            "Requirement already satisfied: matplotlib in /usr/local/lib/python3.6/dist-packages (from catboost) (3.2.1)\n",
            "Requirement already satisfied: graphviz in /usr/local/lib/python3.6/dist-packages (from catboost) (0.10.1)\n",
            "Requirement already satisfied: numpy>=1.16.0 in /usr/local/lib/python3.6/dist-packages (from catboost) (1.18.2)\n",
            "Requirement already satisfied: plotly in /usr/local/lib/python3.6/dist-packages (from catboost) (4.4.1)\n",
            "Requirement already satisfied: pandas>=0.24.0 in /usr/local/lib/python3.6/dist-packages (from catboost) (1.0.3)\n",
            "Requirement already satisfied: cycler>=0.10 in /usr/local/lib/python3.6/dist-packages (from matplotlib->catboost) (0.10.0)\n",
            "Requirement already satisfied: pyparsing!=2.0.4,!=2.1.2,!=2.1.6,>=2.0.1 in /usr/local/lib/python3.6/dist-packages (from matplotlib->catboost) (2.4.7)\n",
            "Requirement already satisfied: kiwisolver>=1.0.1 in /usr/local/lib/python3.6/dist-packages (from matplotlib->catboost) (1.2.0)\n",
            "Requirement already satisfied: python-dateutil>=2.1 in /usr/local/lib/python3.6/dist-packages (from matplotlib->catboost) (2.8.1)\n",
            "Requirement already satisfied: retrying>=1.3.3 in /usr/local/lib/python3.6/dist-packages (from plotly->catboost) (1.3.3)\n",
            "Requirement already satisfied: pytz>=2017.2 in /usr/local/lib/python3.6/dist-packages (from pandas>=0.24.0->catboost) (2018.9)\n",
            "Installing collected packages: catboost\n",
            "Successfully installed catboost-0.22\n"
          ],
          "name": "stdout"
        }
      ]
    },
    {
      "cell_type": "code",
      "metadata": {
        "id": "s0m8Sx9L7n4G",
        "colab_type": "code",
        "colab": {}
      },
      "source": [
        "from catboost import *"
      ],
      "execution_count": 0,
      "outputs": []
    },
    {
      "cell_type": "code",
      "metadata": {
        "id": "uf4L-I217v2s",
        "colab_type": "code",
        "colab": {}
      },
      "source": [
        "df1 = pd.read_csv(\"/content/drive/My Drive/PDDA/Data3_1_2020/train.csv\")\n",
        "df2 = pd.read_csv(\"/content/drive/My Drive/PDDA/Data3_1_2020/test.csv\")\n",
        "valid = pd.read_csv(\"/content/drive/My Drive/PDDA/Part_Of_Expected_Results/real_result_20perc.csv\")"
      ],
      "execution_count": 0,
      "outputs": []
    },
    {
      "cell_type": "code",
      "metadata": {
        "id": "yjKunLU572w-",
        "colab_type": "code",
        "colab": {}
      },
      "source": [
        "# remove all rows that contains missing value\n",
        "df1.replace(['-999', -999], np.nan, inplace=True)\n",
        "df1.dropna(axis=0, inplace=True)\n",
        "\n",
        "df2.replace(['-999', -999], np.nan, inplace=True)\n",
        "df2.dropna(axis=0, inplace=True)"
      ],
      "execution_count": 0,
      "outputs": []
    },
    {
      "cell_type": "markdown",
      "metadata": {
        "id": "4YrGx1_38KLN",
        "colab_type": "text"
      },
      "source": [
        "# Making DTC prediction with CatBoostRegressor"
      ]
    },
    {
      "cell_type": "code",
      "metadata": {
        "id": "C_CqgJmG8FJK",
        "colab_type": "code",
        "outputId": "2b9b7192-e873-4305-9488-80b2aafbc8bf",
        "colab": {
          "base_uri": "https://localhost:8080/",
          "height": 190
        }
      },
      "source": [
        "df1.nunique()"
      ],
      "execution_count": 0,
      "outputs": [
        {
          "output_type": "execute_result",
          "data": {
            "text/plain": [
              "CAL      7458\n",
              "CNC      5454\n",
              "GR      20274\n",
              "HRD     14223\n",
              "HRM     15439\n",
              "PE      10406\n",
              "ZDEN     5734\n",
              "DTC     20182\n",
              "DTS     20323\n",
              "dtype: int64"
            ]
          },
          "metadata": {
            "tags": []
          },
          "execution_count": 6
        }
      ]
    },
    {
      "cell_type": "code",
      "metadata": {
        "id": "UvusBKg98pFv",
        "colab_type": "code",
        "colab": {}
      },
      "source": [
        "X=df1.drop([\"DTC\",\"DTS\",],axis =1)\n",
        "y = df1.DTC"
      ],
      "execution_count": 0,
      "outputs": []
    },
    {
      "cell_type": "code",
      "metadata": {
        "id": "LMbrQkd888yH",
        "colab_type": "code",
        "colab": {}
      },
      "source": [
        "test = valid.drop(['DTC','DTS'],axis=1)"
      ],
      "execution_count": 0,
      "outputs": []
    },
    {
      "cell_type": "code",
      "metadata": {
        "id": "Y5XfdP2z8cCj",
        "colab_type": "code",
        "outputId": "8a795e74-ac00-4620-a526-a5bbf27ea068",
        "colab": {
          "base_uri": "https://localhost:8080/",
          "height": 1000
        }
      },
      "source": [
        "from catboost import CatBoostRegressor\n",
        "errcb2=[]\n",
        "y_pred_totcb2=[]\n",
        "from sklearn.model_selection import KFold,StratifiedKFold, TimeSeriesSplit\n",
        "from sklearn.metrics import mean_squared_error\n",
        "fold=KFold(n_splits=20)#15#5#10\n",
        "i=1\n",
        "for train_index, test_index in fold.split(X,y):\n",
        "    X_train, X_test = X.iloc[train_index], X.iloc[test_index]\n",
        "    y_train, y_test = y.iloc[train_index], y.iloc[test_index]\n",
        "    m2  = CatBoostRegressor( n_estimators=500,eval_metric='RMSE',learning_rate=0.2, random_seed= 1234, use_best_model=True,)\n",
        "    m2.fit(X_train,y_train,eval_set=[(X_train,y_train),(X_test, y_test)], early_stopping_rounds=200,verbose=100,)#erly100\n",
        "    preds=m2.predict(X_test)\n",
        "    print(\"err: \",np.sqrt(mean_squared_error(y_test,preds)))\n",
        "    errcb2.append(np.sqrt(mean_squared_error(y_test,preds)))\n",
        "    p2 = m2.predict(test)\n",
        "    y_pred_totcb2.append(p2)\n",
        "np.mean(errcb2)"
      ],
      "execution_count": 0,
      "outputs": [
        {
          "output_type": "stream",
          "text": [
            "0:\tlearn: 18.2176992\ttest: 18.2176992\ttest1: 33.2242478\tbest: 33.2242478 (0)\ttotal: 53.5ms\tremaining: 26.7s\n",
            "100:\tlearn: 3.0585720\ttest: 3.0585720\ttest1: 5.1619225\tbest: 5.1619225 (100)\ttotal: 604ms\tremaining: 2.38s\n",
            "200:\tlearn: 2.6546443\ttest: 2.6546443\ttest1: 5.4954759\tbest: 5.1181044 (133)\ttotal: 1.15s\tremaining: 1.71s\n",
            "300:\tlearn: 2.4011454\ttest: 2.4011454\ttest1: 5.7966948\tbest: 5.1181044 (133)\ttotal: 1.72s\tremaining: 1.14s\n",
            "Stopped by overfitting detector  (200 iterations wait)\n",
            "\n",
            "bestTest = 5.118104436\n",
            "bestIteration = 133\n",
            "\n",
            "Shrink model to first 134 iterations.\n",
            "err:  5.118104449348483\n",
            "0:\tlearn: 18.1427686\ttest: 18.1427686\ttest1: 33.9201538\tbest: 33.9201538 (0)\ttotal: 6.18ms\tremaining: 3.08s\n",
            "100:\tlearn: 3.0072758\ttest: 3.0072758\ttest1: 3.5390574\tbest: 3.5270374 (88)\ttotal: 555ms\tremaining: 2.19s\n",
            "200:\tlearn: 2.6080030\ttest: 2.6080030\ttest1: 3.4603170\tbest: 3.4603170 (200)\ttotal: 1.09s\tremaining: 1.63s\n",
            "300:\tlearn: 2.3726923\ttest: 2.3726923\ttest1: 3.5489890\tbest: 3.4599329 (201)\ttotal: 1.66s\tremaining: 1.09s\n",
            "400:\tlearn: 2.1894038\ttest: 2.1894038\ttest1: 3.5503726\tbest: 3.4599329 (201)\ttotal: 2.2s\tremaining: 544ms\n",
            "Stopped by overfitting detector  (200 iterations wait)\n",
            "\n",
            "bestTest = 3.459932933\n",
            "bestIteration = 201\n",
            "\n",
            "Shrink model to first 202 iterations.\n",
            "err:  3.4599329356329593\n",
            "0:\tlearn: 17.7591156\ttest: 17.7591156\ttest1: 38.6081362\tbest: 38.6081362 (0)\ttotal: 5.94ms\tremaining: 2.96s\n",
            "100:\tlearn: 3.0147852\ttest: 3.0147852\ttest1: 3.4594355\tbest: 3.4284320 (83)\ttotal: 555ms\tremaining: 2.19s\n",
            "200:\tlearn: 2.6049304\ttest: 2.6049304\ttest1: 3.5459154\tbest: 3.4284320 (83)\ttotal: 1.11s\tremaining: 1.66s\n",
            "Stopped by overfitting detector  (200 iterations wait)\n",
            "\n",
            "bestTest = 3.428432002\n",
            "bestIteration = 83\n",
            "\n",
            "Shrink model to first 84 iterations.\n",
            "err:  3.4284318623845436\n",
            "0:\tlearn: 18.5928110\ttest: 18.5928110\ttest1: 28.9737362\tbest: 28.9737362 (0)\ttotal: 6.09ms\tremaining: 3.04s\n",
            "100:\tlearn: 2.8250246\ttest: 2.8250246\ttest1: 7.9790761\tbest: 7.9637184 (95)\ttotal: 551ms\tremaining: 2.17s\n",
            "200:\tlearn: 2.4588462\ttest: 2.4588462\ttest1: 8.0147699\tbest: 7.9637184 (95)\ttotal: 1.09s\tremaining: 1.62s\n",
            "300:\tlearn: 2.2274534\ttest: 2.2274534\ttest1: 8.0406098\tbest: 7.9299934 (226)\ttotal: 1.65s\tremaining: 1.09s\n",
            "400:\tlearn: 2.0583064\ttest: 2.0583064\ttest1: 7.9754183\tbest: 7.9299934 (226)\ttotal: 2.19s\tremaining: 540ms\n",
            "Stopped by overfitting detector  (200 iterations wait)\n",
            "\n",
            "bestTest = 7.929993447\n",
            "bestIteration = 226\n",
            "\n",
            "Shrink model to first 227 iterations.\n",
            "err:  7.9299936101837485\n",
            "0:\tlearn: 19.3721164\ttest: 19.3721164\ttest1: 15.9372050\tbest: 15.9372050 (0)\ttotal: 6.13ms\tremaining: 3.06s\n",
            "100:\tlearn: 2.9240480\ttest: 2.9240480\ttest1: 6.6196206\tbest: 6.6059048 (97)\ttotal: 553ms\tremaining: 2.19s\n",
            "200:\tlearn: 2.5413611\ttest: 2.5413611\ttest1: 6.9692014\tbest: 6.6059048 (97)\ttotal: 1.15s\tremaining: 1.71s\n",
            "Stopped by overfitting detector  (200 iterations wait)\n",
            "\n",
            "bestTest = 6.605904821\n",
            "bestIteration = 97\n",
            "\n",
            "Shrink model to first 98 iterations.\n",
            "err:  6.605904835852659\n",
            "0:\tlearn: 19.1708114\ttest: 19.1708114\ttest1: 20.5190554\tbest: 20.5190554 (0)\ttotal: 5.97ms\tremaining: 2.98s\n",
            "100:\tlearn: 3.0455033\ttest: 3.0455033\ttest1: 1.7924919\tbest: 1.7428514 (63)\ttotal: 555ms\tremaining: 2.19s\n",
            "200:\tlearn: 2.6493598\ttest: 2.6493598\ttest1: 1.8221192\tbest: 1.7428514 (63)\ttotal: 1.1s\tremaining: 1.63s\n",
            "Stopped by overfitting detector  (200 iterations wait)\n",
            "\n",
            "bestTest = 1.74285135\n",
            "bestIteration = 63\n",
            "\n",
            "Shrink model to first 64 iterations.\n",
            "err:  1.7428513444118703\n",
            "0:\tlearn: 19.4261153\ttest: 19.4261153\ttest1: 13.9987307\tbest: 13.9987307 (0)\ttotal: 6.13ms\tremaining: 3.06s\n",
            "100:\tlearn: 3.0134667\ttest: 3.0134667\ttest1: 3.6679253\tbest: 3.6679253 (100)\ttotal: 556ms\tremaining: 2.2s\n",
            "200:\tlearn: 2.6216623\ttest: 2.6216623\ttest1: 3.6248685\tbest: 3.6219106 (197)\ttotal: 1.12s\tremaining: 1.66s\n",
            "300:\tlearn: 2.3747911\ttest: 2.3747911\ttest1: 3.6126541\tbest: 3.6112289 (237)\ttotal: 1.67s\tremaining: 1.1s\n",
            "400:\tlearn: 2.2000461\ttest: 2.2000461\ttest1: 3.5992757\tbest: 3.5982835 (398)\ttotal: 2.22s\tremaining: 547ms\n",
            "499:\tlearn: 2.0680000\ttest: 2.0680000\ttest1: 3.5718716\tbest: 3.5703349 (498)\ttotal: 2.78s\tremaining: 0us\n",
            "\n",
            "bestTest = 3.570334888\n",
            "bestIteration = 498\n",
            "\n",
            "Shrink model to first 499 iterations.\n",
            "err:  3.5703349420321016\n",
            "0:\tlearn: 19.2655996\ttest: 19.2655996\ttest1: 18.7210151\tbest: 18.7210151 (0)\ttotal: 5.91ms\tremaining: 2.95s\n",
            "100:\tlearn: 2.9193880\ttest: 2.9193880\ttest1: 11.7508462\tbest: 11.4056376 (12)\ttotal: 540ms\tremaining: 2.13s\n",
            "200:\tlearn: 2.5456290\ttest: 2.5456290\ttest1: 11.3771461\tbest: 11.2188408 (164)\ttotal: 1.11s\tremaining: 1.65s\n",
            "300:\tlearn: 2.3078631\ttest: 2.3078631\ttest1: 11.2146264\tbest: 11.1612267 (296)\ttotal: 1.67s\tremaining: 1.1s\n",
            "400:\tlearn: 2.1355284\ttest: 2.1355284\ttest1: 11.4415675\tbest: 11.1612267 (296)\ttotal: 2.22s\tremaining: 548ms\n",
            "Stopped by overfitting detector  (200 iterations wait)\n",
            "\n",
            "bestTest = 11.16122672\n",
            "bestIteration = 296\n",
            "\n",
            "Shrink model to first 297 iterations.\n",
            "err:  11.161226740565887\n",
            "0:\tlearn: 19.6299981\ttest: 19.6299981\ttest1: 6.9985979\tbest: 6.9985979 (0)\ttotal: 9.25ms\tremaining: 4.62s\n",
            "100:\tlearn: 2.9719187\ttest: 2.9719187\ttest1: 5.5211324\tbest: 5.1611576 (10)\ttotal: 554ms\tremaining: 2.19s\n",
            "200:\tlearn: 2.5906089\ttest: 2.5906089\ttest1: 5.6183821\tbest: 5.1611576 (10)\ttotal: 1.11s\tremaining: 1.65s\n",
            "Stopped by overfitting detector  (200 iterations wait)\n",
            "\n",
            "bestTest = 5.161157568\n",
            "bestIteration = 10\n",
            "\n",
            "Shrink model to first 11 iterations.\n",
            "err:  5.161157575401824\n",
            "0:\tlearn: 19.5702996\ttest: 19.5702996\ttest1: 9.9702597\tbest: 9.9702597 (0)\ttotal: 6.25ms\tremaining: 3.12s\n",
            "100:\tlearn: 2.9184099\ttest: 2.9184099\ttest1: 6.2116961\tbest: 6.2116961 (100)\ttotal: 562ms\tremaining: 2.22s\n",
            "200:\tlearn: 2.5159651\ttest: 2.5159651\ttest1: 6.1912199\tbest: 6.1133679 (186)\ttotal: 1.14s\tremaining: 1.7s\n",
            "300:\tlearn: 2.2843543\ttest: 2.2843543\ttest1: 6.2864081\tbest: 6.1133679 (186)\ttotal: 1.71s\tremaining: 1.13s\n",
            "Stopped by overfitting detector  (200 iterations wait)\n",
            "\n",
            "bestTest = 6.113367867\n",
            "bestIteration = 186\n",
            "\n",
            "Shrink model to first 187 iterations.\n",
            "err:  6.113367902681799\n",
            "0:\tlearn: 19.6159014\ttest: 19.6159014\ttest1: 8.0860850\tbest: 8.0860850 (0)\ttotal: 6ms\tremaining: 2.99s\n",
            "100:\tlearn: 2.8738072\ttest: 2.8738072\ttest1: 6.0269088\tbest: 6.0269088 (100)\ttotal: 560ms\tremaining: 2.21s\n",
            "200:\tlearn: 2.4925252\ttest: 2.4925252\ttest1: 5.9507244\tbest: 5.9332282 (180)\ttotal: 1.1s\tremaining: 1.64s\n",
            "300:\tlearn: 2.2539666\ttest: 2.2539666\ttest1: 6.0474306\tbest: 5.9332282 (180)\ttotal: 1.69s\tremaining: 1.12s\n",
            "Stopped by overfitting detector  (200 iterations wait)\n",
            "\n",
            "bestTest = 5.933228209\n",
            "bestIteration = 180\n",
            "\n",
            "Shrink model to first 181 iterations.\n",
            "err:  5.933228040361638\n",
            "0:\tlearn: 19.5539627\ttest: 19.5539627\ttest1: 10.4137298\tbest: 10.4137298 (0)\ttotal: 6.26ms\tremaining: 3.12s\n",
            "100:\tlearn: 2.9525030\ttest: 2.9525030\ttest1: 4.6113253\tbest: 4.6113253 (100)\ttotal: 566ms\tremaining: 2.24s\n",
            "200:\tlearn: 2.5697460\ttest: 2.5697460\ttest1: 4.5146859\tbest: 4.5035869 (187)\ttotal: 1.11s\tremaining: 1.65s\n",
            "300:\tlearn: 2.3186907\ttest: 2.3186907\ttest1: 4.5029955\tbest: 4.4840872 (275)\ttotal: 1.66s\tremaining: 1.1s\n",
            "400:\tlearn: 2.1391736\ttest: 2.1391736\ttest1: 4.5197882\tbest: 4.4840872 (275)\ttotal: 2.21s\tremaining: 546ms\n",
            "Stopped by overfitting detector  (200 iterations wait)\n",
            "\n",
            "bestTest = 4.484087195\n",
            "bestIteration = 275\n",
            "\n",
            "Shrink model to first 276 iterations.\n",
            "err:  4.484087141127021\n",
            "0:\tlearn: 19.1700879\ttest: 19.1700879\ttest1: 20.6307343\tbest: 20.6307343 (0)\ttotal: 6.07ms\tremaining: 3.03s\n",
            "100:\tlearn: 3.0831582\ttest: 3.0831582\ttest1: 1.4745125\tbest: 1.4677862 (93)\ttotal: 563ms\tremaining: 2.22s\n",
            "200:\tlearn: 2.6928524\ttest: 2.6928524\ttest1: 1.4390658\tbest: 1.4386933 (199)\ttotal: 1.1s\tremaining: 1.65s\n",
            "300:\tlearn: 2.4417410\ttest: 2.4417410\ttest1: 1.4302964\tbest: 1.4167999 (263)\ttotal: 1.68s\tremaining: 1.11s\n",
            "400:\tlearn: 2.2498285\ttest: 2.2498285\ttest1: 1.4352524\tbest: 1.4167999 (263)\ttotal: 2.23s\tremaining: 549ms\n",
            "Stopped by overfitting detector  (200 iterations wait)\n",
            "\n",
            "bestTest = 1.416799945\n",
            "bestIteration = 263\n",
            "\n",
            "Shrink model to first 264 iterations.\n",
            "err:  1.4168000180736513\n",
            "0:\tlearn: 19.1693321\ttest: 19.1693321\ttest1: 20.0942960\tbest: 20.0942960 (0)\ttotal: 5.96ms\tremaining: 2.97s\n",
            "100:\tlearn: 3.0817356\ttest: 3.0817356\ttest1: 1.6063058\tbest: 1.5891331 (91)\ttotal: 551ms\tremaining: 2.18s\n",
            "200:\tlearn: 2.6873966\ttest: 2.6873966\ttest1: 1.5310683\tbest: 1.5278112 (190)\ttotal: 1.13s\tremaining: 1.67s\n",
            "300:\tlearn: 2.4296032\ttest: 2.4296032\ttest1: 1.5500563\tbest: 1.5268321 (222)\ttotal: 1.71s\tremaining: 1.13s\n",
            "400:\tlearn: 2.2517568\ttest: 2.2517568\ttest1: 1.5860363\tbest: 1.5268321 (222)\ttotal: 2.27s\tremaining: 560ms\n",
            "Stopped by overfitting detector  (200 iterations wait)\n",
            "\n",
            "bestTest = 1.526832075\n",
            "bestIteration = 222\n",
            "\n",
            "Shrink model to first 223 iterations.\n",
            "err:  1.5268320138490885\n",
            "0:\tlearn: 19.2879155\ttest: 19.2879155\ttest1: 18.4130684\tbest: 18.4130684 (0)\ttotal: 10.1ms\tremaining: 5.02s\n",
            "100:\tlearn: 3.0496121\ttest: 3.0496121\ttest1: 1.7587892\tbest: 1.7482648 (61)\ttotal: 566ms\tremaining: 2.24s\n",
            "200:\tlearn: 2.6462068\ttest: 2.6462068\ttest1: 1.8306992\tbest: 1.7482648 (61)\ttotal: 1.12s\tremaining: 1.67s\n",
            "Stopped by overfitting detector  (200 iterations wait)\n",
            "\n",
            "bestTest = 1.748264758\n",
            "bestIteration = 61\n",
            "\n",
            "Shrink model to first 62 iterations.\n",
            "err:  1.748264663984743\n",
            "0:\tlearn: 19.4881903\ttest: 19.4881903\ttest1: 13.1287351\tbest: 13.1287351 (0)\ttotal: 5.82ms\tremaining: 2.9s\n",
            "100:\tlearn: 3.0695254\ttest: 3.0695254\ttest1: 2.3931755\tbest: 1.9339111 (9)\ttotal: 548ms\tremaining: 2.16s\n",
            "200:\tlearn: 2.6568858\ttest: 2.6568858\ttest1: 2.3802409\tbest: 1.9339111 (9)\ttotal: 1.09s\tremaining: 1.62s\n",
            "Stopped by overfitting detector  (200 iterations wait)\n",
            "\n",
            "bestTest = 1.933911061\n",
            "bestIteration = 9\n",
            "\n",
            "Shrink model to first 10 iterations.\n",
            "err:  1.9339110809059048\n",
            "0:\tlearn: 19.5233210\ttest: 19.5233210\ttest1: 12.3496734\tbest: 12.3496734 (0)\ttotal: 5.94ms\tremaining: 2.96s\n",
            "100:\tlearn: 3.0704727\ttest: 3.0704727\ttest1: 2.1761806\tbest: 1.8850859 (10)\ttotal: 547ms\tremaining: 2.16s\n",
            "200:\tlearn: 2.6564940\ttest: 2.6564940\ttest1: 2.3234308\tbest: 1.8850859 (10)\ttotal: 1.1s\tremaining: 1.64s\n",
            "Stopped by overfitting detector  (200 iterations wait)\n",
            "\n",
            "bestTest = 1.885085886\n",
            "bestIteration = 10\n",
            "\n",
            "Shrink model to first 11 iterations.\n",
            "err:  1.8850859072140922\n",
            "0:\tlearn: 19.4415930\ttest: 19.4415930\ttest1: 13.9226851\tbest: 13.9226851 (0)\ttotal: 6.04ms\tremaining: 3.01s\n",
            "100:\tlearn: 3.0075827\ttest: 3.0075827\ttest1: 5.3233467\tbest: 5.3154054 (80)\ttotal: 551ms\tremaining: 2.17s\n",
            "200:\tlearn: 2.5961220\ttest: 2.5961220\ttest1: 5.4551267\tbest: 5.2235269 (150)\ttotal: 1.1s\tremaining: 1.64s\n",
            "300:\tlearn: 2.3572584\ttest: 2.3572584\ttest1: 6.0540079\tbest: 5.2235269 (150)\ttotal: 1.66s\tremaining: 1.1s\n",
            "Stopped by overfitting detector  (200 iterations wait)\n",
            "\n",
            "bestTest = 5.223526864\n",
            "bestIteration = 150\n",
            "\n",
            "Shrink model to first 151 iterations.\n",
            "err:  5.22352692703222\n",
            "0:\tlearn: 19.4930925\ttest: 19.4930925\ttest1: 13.9340167\tbest: 13.9340167 (0)\ttotal: 5.84ms\tremaining: 2.92s\n",
            "100:\tlearn: 2.9472080\ttest: 2.9472080\ttest1: 4.9162025\tbest: 4.7565251 (56)\ttotal: 562ms\tremaining: 2.22s\n",
            "200:\tlearn: 2.5429015\ttest: 2.5429015\ttest1: 5.1540550\tbest: 4.7565251 (56)\ttotal: 1.12s\tremaining: 1.67s\n",
            "Stopped by overfitting detector  (200 iterations wait)\n",
            "\n",
            "bestTest = 4.75652507\n",
            "bestIteration = 56\n",
            "\n",
            "Shrink model to first 57 iterations.\n",
            "err:  4.756525120738967\n",
            "0:\tlearn: 19.5354570\ttest: 19.5354570\ttest1: 13.3671902\tbest: 13.3671902 (0)\ttotal: 6.06ms\tremaining: 3.02s\n",
            "100:\tlearn: 2.9863068\ttest: 2.9863068\ttest1: 4.5680826\tbest: 4.4394772 (87)\ttotal: 547ms\tremaining: 2.16s\n",
            "200:\tlearn: 2.5833675\ttest: 2.5833675\ttest1: 4.3716967\tbest: 4.3651702 (198)\ttotal: 1.1s\tremaining: 1.64s\n",
            "300:\tlearn: 2.3409771\ttest: 2.3409771\ttest1: 4.2155007\tbest: 4.2041864 (280)\ttotal: 1.65s\tremaining: 1.09s\n",
            "400:\tlearn: 2.1594679\ttest: 2.1594679\ttest1: 4.2191341\tbest: 4.1800807 (321)\ttotal: 2.22s\tremaining: 549ms\n",
            "499:\tlearn: 2.0146019\ttest: 2.0146019\ttest1: 4.1053760\tbest: 4.1053760 (499)\ttotal: 2.76s\tremaining: 0us\n",
            "\n",
            "bestTest = 4.10537598\n",
            "bestIteration = 499\n",
            "\n",
            "err:  4.105375951128038\n"
          ],
          "name": "stdout"
        },
        {
          "output_type": "execute_result",
          "data": {
            "text/plain": [
              "4.365247153145562"
            ]
          },
          "metadata": {
            "tags": []
          },
          "execution_count": 8
        }
      ]
    },
    {
      "cell_type": "code",
      "metadata": {
        "id": "YYiYZVvM8mQk",
        "colab_type": "code",
        "colab": {}
      },
      "source": [
        "cat_DTC_preds = np.mean(y_pred_totcb2, 0)"
      ],
      "execution_count": 0,
      "outputs": []
    },
    {
      "cell_type": "code",
      "metadata": {
        "id": "udIhVpni-LQp",
        "colab_type": "code",
        "outputId": "a9a44e05-fe84-43c5-fadd-d8d3707c230d",
        "colab": {
          "base_uri": "https://localhost:8080/",
          "height": 52
        }
      },
      "source": [
        "cat_DTC_preds"
      ],
      "execution_count": 0,
      "outputs": [
        {
          "output_type": "execute_result",
          "data": {
            "text/plain": [
              "array([69.01963332, 94.70456328, 92.90480481, ..., 92.27737981,\n",
              "       62.09626799, 71.36284705])"
            ]
          },
          "metadata": {
            "tags": []
          },
          "execution_count": 24
        }
      ]
    },
    {
      "cell_type": "code",
      "metadata": {
        "id": "o3RT_c-3Dx7h",
        "colab_type": "code",
        "colab": {}
      },
      "source": [
        ""
      ],
      "execution_count": 0,
      "outputs": []
    },
    {
      "cell_type": "markdown",
      "metadata": {
        "id": "VA8FjT-M-Nbm",
        "colab_type": "text"
      },
      "source": [
        "# Checking Catboost Performance with Validation Blind set Data"
      ]
    },
    {
      "cell_type": "code",
      "metadata": {
        "id": "RDXJ-04x-S89",
        "colab_type": "code",
        "colab": {}
      },
      "source": [
        "real_DTC_values = valid['DTC']"
      ],
      "execution_count": 0,
      "outputs": []
    },
    {
      "cell_type": "code",
      "metadata": {
        "id": "hgGh-stv-WZd",
        "colab_type": "code",
        "outputId": "b6ec55dd-6f04-478b-da6f-a7276cedb88e",
        "colab": {
          "base_uri": "https://localhost:8080/",
          "height": 34
        }
      },
      "source": [
        "print('Root Mean Square Error is:', '{:.5f}'.format(np.sqrt(mean_squared_error(real_DTC_values, cat_DTC_preds))))"
      ],
      "execution_count": 0,
      "outputs": [
        {
          "output_type": "stream",
          "text": [
            "Root Mean Square Error is: 4.29563\n"
          ],
          "name": "stdout"
        }
      ]
    },
    {
      "cell_type": "code",
      "metadata": {
        "id": "98FAhCkk-abx",
        "colab_type": "code",
        "colab": {}
      },
      "source": [
        ""
      ],
      "execution_count": 0,
      "outputs": []
    },
    {
      "cell_type": "markdown",
      "metadata": {
        "id": "MJjrpiyL-czP",
        "colab_type": "text"
      },
      "source": [
        "# Making DTC Prediction on Submission Data"
      ]
    },
    {
      "cell_type": "code",
      "metadata": {
        "id": "aCEhINJn-lOM",
        "colab_type": "code",
        "colab": {}
      },
      "source": [
        "results = pd.DataFrame(columns=['DTC','DTS'])"
      ],
      "execution_count": 0,
      "outputs": []
    },
    {
      "cell_type": "code",
      "metadata": {
        "id": "5u0w8REBCSHi",
        "colab_type": "code",
        "colab": {}
      },
      "source": [
        "y_pred_totcb1=[]"
      ],
      "execution_count": 0,
      "outputs": []
    },
    {
      "cell_type": "code",
      "metadata": {
        "id": "QckeSAB_AAJ_",
        "colab_type": "code",
        "colab": {}
      },
      "source": [
        "p1 = m2.predict(df2)\n",
        "y_pred_totcb1.append(p1)"
      ],
      "execution_count": 0,
      "outputs": []
    },
    {
      "cell_type": "code",
      "metadata": {
        "id": "CGpD-w_B_Vy5",
        "colab_type": "code",
        "colab": {}
      },
      "source": [
        "sub_cat_dtc_pred =  np.mean(y_pred_totcb1, 0)"
      ],
      "execution_count": 0,
      "outputs": []
    },
    {
      "cell_type": "code",
      "metadata": {
        "id": "h_P6xQRZC78I",
        "colab_type": "code",
        "colab": {}
      },
      "source": [
        "results['DTC'] = sub_cat_dtc_pred"
      ],
      "execution_count": 0,
      "outputs": []
    },
    {
      "cell_type": "code",
      "metadata": {
        "id": "wOh3-nMbDIV4",
        "colab_type": "code",
        "outputId": "74242506-4711-4790-c5dc-5b9e1dcc814c",
        "colab": {
          "base_uri": "https://localhost:8080/",
          "height": 202
        }
      },
      "source": [
        "results.head()"
      ],
      "execution_count": 0,
      "outputs": [
        {
          "output_type": "execute_result",
          "data": {
            "text/html": [
              "<div>\n",
              "<style scoped>\n",
              "    .dataframe tbody tr th:only-of-type {\n",
              "        vertical-align: middle;\n",
              "    }\n",
              "\n",
              "    .dataframe tbody tr th {\n",
              "        vertical-align: top;\n",
              "    }\n",
              "\n",
              "    .dataframe thead th {\n",
              "        text-align: right;\n",
              "    }\n",
              "</style>\n",
              "<table border=\"1\" class=\"dataframe\">\n",
              "  <thead>\n",
              "    <tr style=\"text-align: right;\">\n",
              "      <th></th>\n",
              "      <th>DTC</th>\n",
              "      <th>DTS</th>\n",
              "    </tr>\n",
              "  </thead>\n",
              "  <tbody>\n",
              "    <tr>\n",
              "      <th>0</th>\n",
              "      <td>102.714747</td>\n",
              "      <td>NaN</td>\n",
              "    </tr>\n",
              "    <tr>\n",
              "      <th>1</th>\n",
              "      <td>101.761868</td>\n",
              "      <td>NaN</td>\n",
              "    </tr>\n",
              "    <tr>\n",
              "      <th>2</th>\n",
              "      <td>103.348231</td>\n",
              "      <td>NaN</td>\n",
              "    </tr>\n",
              "    <tr>\n",
              "      <th>3</th>\n",
              "      <td>103.414831</td>\n",
              "      <td>NaN</td>\n",
              "    </tr>\n",
              "    <tr>\n",
              "      <th>4</th>\n",
              "      <td>104.958243</td>\n",
              "      <td>NaN</td>\n",
              "    </tr>\n",
              "  </tbody>\n",
              "</table>\n",
              "</div>"
            ],
            "text/plain": [
              "          DTC  DTS\n",
              "0  102.714747  NaN\n",
              "1  101.761868  NaN\n",
              "2  103.348231  NaN\n",
              "3  103.414831  NaN\n",
              "4  104.958243  NaN"
            ]
          },
          "metadata": {
            "tags": []
          },
          "execution_count": 21
        }
      ]
    },
    {
      "cell_type": "code",
      "metadata": {
        "id": "JeBamE5DE3IY",
        "colab_type": "code",
        "outputId": "f8d3e284-3da1-4299-a54d-85d6eae0193d",
        "colab": {
          "base_uri": "https://localhost:8080/",
          "height": 34
        }
      },
      "source": [
        "results['DTC'].min(), results['DTC'].max()"
      ],
      "execution_count": 0,
      "outputs": [
        {
          "output_type": "execute_result",
          "data": {
            "text/plain": [
              "(55.82331061632066, 117.09102305868753)"
            ]
          },
          "metadata": {
            "tags": []
          },
          "execution_count": 28
        }
      ]
    },
    {
      "cell_type": "code",
      "metadata": {
        "id": "LB3HfqxlD-0u",
        "colab_type": "code",
        "outputId": "a8ea553e-82f0-4dba-8015-049529a3e667",
        "colab": {
          "base_uri": "https://localhost:8080/",
          "height": 34
        }
      },
      "source": [
        "results.shape"
      ],
      "execution_count": 0,
      "outputs": [
        {
          "output_type": "execute_result",
          "data": {
            "text/plain": [
              "(11088, 2)"
            ]
          },
          "metadata": {
            "tags": []
          },
          "execution_count": 26
        }
      ]
    },
    {
      "cell_type": "code",
      "metadata": {
        "id": "z5ilqXv7DKeX",
        "colab_type": "code",
        "outputId": "c66489f1-8389-424f-daf2-e9b6c5c79ae8",
        "colab": {
          "base_uri": "https://localhost:8080/",
          "height": 69
        }
      },
      "source": [
        "results.nunique()"
      ],
      "execution_count": 0,
      "outputs": [
        {
          "output_type": "execute_result",
          "data": {
            "text/plain": [
              "DTC    10893\n",
              "DTS        0\n",
              "dtype: int64"
            ]
          },
          "metadata": {
            "tags": []
          },
          "execution_count": 25
        }
      ]
    },
    {
      "cell_type": "code",
      "metadata": {
        "id": "6THvfj_TD8y8",
        "colab_type": "code",
        "colab": {}
      },
      "source": [
        ""
      ],
      "execution_count": 0,
      "outputs": []
    },
    {
      "cell_type": "code",
      "metadata": {
        "id": "yqe8iOaUFY-w",
        "colab_type": "code",
        "colab": {}
      },
      "source": [
        ""
      ],
      "execution_count": 0,
      "outputs": []
    },
    {
      "cell_type": "markdown",
      "metadata": {
        "id": "fW0KGfoyFZcV",
        "colab_type": "text"
      },
      "source": [
        "# Making DTS prediction with XG_BOOST REGRESSOR"
      ]
    },
    {
      "cell_type": "code",
      "metadata": {
        "id": "LRIP0LGXFiWS",
        "colab_type": "code",
        "colab": {}
      },
      "source": [
        "import xgboost as xgb\n",
        "from sklearn.metrics import mean_squared_error\n",
        "import pandas as pd\n",
        "import numpy as np"
      ],
      "execution_count": 0,
      "outputs": []
    },
    {
      "cell_type": "code",
      "metadata": {
        "id": "3lvEf52pHdWI",
        "colab_type": "code",
        "colab": {}
      },
      "source": [
        "X=df1.drop([\"DTC\",\"DTS\",],axis =1)\n",
        "y = df1.DTS"
      ],
      "execution_count": 0,
      "outputs": []
    },
    {
      "cell_type": "code",
      "metadata": {
        "id": "Q7aCN1LuHZcw",
        "colab_type": "code",
        "colab": {}
      },
      "source": [
        "data_dmatrix = xgb.DMatrix(data=X,label=y)"
      ],
      "execution_count": 0,
      "outputs": []
    },
    {
      "cell_type": "code",
      "metadata": {
        "id": "DsRt16bgHkM_",
        "colab_type": "code",
        "colab": {}
      },
      "source": [
        "best_xgb_model = xgb.XGBRegressor(colsample_bytree=0.8606,\n",
        "                 gamma=4.794,                 \n",
        "                 learning_rate=0.07,\n",
        "                 max_depth=7,\n",
        "                 min_child_weight=14.03,\n",
        "                 n_estimators=1000,                                                                    \n",
        "                 subsample=0.9863,\n",
        "                 seed=1234)"
      ],
      "execution_count": 0,
      "outputs": []
    },
    {
      "cell_type": "code",
      "metadata": {
        "id": "gp2BZBq0Hjif",
        "colab_type": "code",
        "outputId": "76d8c76f-59b8-4aa2-b8c5-00c11b52f8d3",
        "colab": {
          "base_uri": "https://localhost:8080/",
          "height": 156
        }
      },
      "source": [
        "best_xgb_model.fit(X,y)"
      ],
      "execution_count": 0,
      "outputs": [
        {
          "output_type": "stream",
          "text": [
            "[14:21:29] WARNING: /workspace/src/objective/regression_obj.cu:152: reg:linear is now deprecated in favor of reg:squarederror.\n"
          ],
          "name": "stdout"
        },
        {
          "output_type": "execute_result",
          "data": {
            "text/plain": [
              "XGBRegressor(base_score=0.5, booster='gbtree', colsample_bylevel=1,\n",
              "             colsample_bynode=1, colsample_bytree=0.8606, gamma=4.794,\n",
              "             importance_type='gain', learning_rate=0.07, max_delta_step=0,\n",
              "             max_depth=7, min_child_weight=14.03, missing=None,\n",
              "             n_estimators=1000, n_jobs=1, nthread=None, objective='reg:linear',\n",
              "             random_state=0, reg_alpha=0, reg_lambda=1, scale_pos_weight=1,\n",
              "             seed=1234, silent=None, subsample=0.9863, verbosity=1)"
            ]
          },
          "metadata": {
            "tags": []
          },
          "execution_count": 16
        }
      ]
    },
    {
      "cell_type": "code",
      "metadata": {
        "id": "k1Q_yBp3Hx77",
        "colab_type": "code",
        "colab": {}
      },
      "source": [
        "xgb_DTS_preds = best_xgb_model.predict(test)"
      ],
      "execution_count": 0,
      "outputs": []
    },
    {
      "cell_type": "code",
      "metadata": {
        "id": "UfD7t7PsH5DI",
        "colab_type": "code",
        "colab": {}
      },
      "source": [
        ""
      ],
      "execution_count": 0,
      "outputs": []
    },
    {
      "cell_type": "markdown",
      "metadata": {
        "id": "Qcqdd3gKH8XY",
        "colab_type": "text"
      },
      "source": [
        "# Checking Xgboost_Performance on Predicting DTS"
      ]
    },
    {
      "cell_type": "code",
      "metadata": {
        "id": "D_ZS7ycgIAon",
        "colab_type": "code",
        "colab": {}
      },
      "source": [
        "real_DTS_values = valid['DTS']"
      ],
      "execution_count": 0,
      "outputs": []
    },
    {
      "cell_type": "code",
      "metadata": {
        "id": "ZdIcrn1HI5HP",
        "colab_type": "code",
        "outputId": "c1d231d9-67be-4863-bdc9-5f54b67aaafc",
        "colab": {
          "base_uri": "https://localhost:8080/",
          "height": 34
        }
      },
      "source": [
        "print('Root Mean Square Error is:', '{:.5f}'.format(np.sqrt(mean_squared_error(real_DTS_values, xgb_DTS_preds))))"
      ],
      "execution_count": 0,
      "outputs": [
        {
          "output_type": "stream",
          "text": [
            "Root Mean Square Error is: 24.32433\n"
          ],
          "name": "stdout"
        }
      ]
    },
    {
      "cell_type": "code",
      "metadata": {
        "id": "oxXboqg8I9wQ",
        "colab_type": "code",
        "colab": {}
      },
      "source": [
        ""
      ],
      "execution_count": 0,
      "outputs": []
    },
    {
      "cell_type": "markdown",
      "metadata": {
        "id": "oFVe7W8ukF3r",
        "colab_type": "text"
      },
      "source": [
        "# Checking Overall performance of both models"
      ]
    },
    {
      "cell_type": "code",
      "metadata": {
        "id": "yS3XqqSRkLkR",
        "colab_type": "code",
        "colab": {}
      },
      "source": [
        "results = pd.DataFrame(columns=['DTC','DTS'])"
      ],
      "execution_count": 0,
      "outputs": []
    },
    {
      "cell_type": "code",
      "metadata": {
        "id": "ojlYu48hkVwg",
        "colab_type": "code",
        "outputId": "c05d60ba-8ef2-4846-8ca8-488d1a57062b",
        "colab": {
          "base_uri": "https://localhost:8080/",
          "height": 202
        }
      },
      "source": [
        "results['DTC'] = cat_DTC_preds\n",
        "results['DTS'] = xgb_DTS_preds\n",
        "results.head()"
      ],
      "execution_count": 0,
      "outputs": [
        {
          "output_type": "execute_result",
          "data": {
            "text/html": [
              "<div>\n",
              "<style scoped>\n",
              "    .dataframe tbody tr th:only-of-type {\n",
              "        vertical-align: middle;\n",
              "    }\n",
              "\n",
              "    .dataframe tbody tr th {\n",
              "        vertical-align: top;\n",
              "    }\n",
              "\n",
              "    .dataframe thead th {\n",
              "        text-align: right;\n",
              "    }\n",
              "</style>\n",
              "<table border=\"1\" class=\"dataframe\">\n",
              "  <thead>\n",
              "    <tr style=\"text-align: right;\">\n",
              "      <th></th>\n",
              "      <th>DTC</th>\n",
              "      <th>DTS</th>\n",
              "    </tr>\n",
              "  </thead>\n",
              "  <tbody>\n",
              "    <tr>\n",
              "      <th>0</th>\n",
              "      <td>69.019633</td>\n",
              "      <td>126.749466</td>\n",
              "    </tr>\n",
              "    <tr>\n",
              "      <th>1</th>\n",
              "      <td>94.704563</td>\n",
              "      <td>175.521484</td>\n",
              "    </tr>\n",
              "    <tr>\n",
              "      <th>2</th>\n",
              "      <td>92.904805</td>\n",
              "      <td>182.808304</td>\n",
              "    </tr>\n",
              "    <tr>\n",
              "      <th>3</th>\n",
              "      <td>77.862650</td>\n",
              "      <td>155.265884</td>\n",
              "    </tr>\n",
              "    <tr>\n",
              "      <th>4</th>\n",
              "      <td>79.660607</td>\n",
              "      <td>151.914185</td>\n",
              "    </tr>\n",
              "  </tbody>\n",
              "</table>\n",
              "</div>"
            ],
            "text/plain": [
              "         DTC         DTS\n",
              "0  69.019633  126.749466\n",
              "1  94.704563  175.521484\n",
              "2  92.904805  182.808304\n",
              "3  77.862650  155.265884\n",
              "4  79.660607  151.914185"
            ]
          },
          "metadata": {
            "tags": []
          },
          "execution_count": 21
        }
      ]
    },
    {
      "cell_type": "code",
      "metadata": {
        "id": "2L4EaEG9kVu4",
        "colab_type": "code",
        "colab": {}
      },
      "source": [
        "results_data = np.array(results)"
      ],
      "execution_count": 0,
      "outputs": []
    },
    {
      "cell_type": "code",
      "metadata": {
        "id": "jVZJG4T7kVsN",
        "colab_type": "code",
        "colab": {}
      },
      "source": [
        "valid_data = np.array(valid)\n",
        "y_real = valid_data[:,-2:]"
      ],
      "execution_count": 0,
      "outputs": []
    },
    {
      "cell_type": "code",
      "metadata": {
        "id": "OkFXTotKkj_e",
        "colab_type": "code",
        "outputId": "1758b3c3-6d3d-4bd0-ec6c-231b9c5946bd",
        "colab": {
          "base_uri": "https://localhost:8080/",
          "height": 34
        }
      },
      "source": [
        " print('Root Mean Square Error is:', '{:.5f}'.format(np.sqrt(mean_squared_error(y_real, results))))"
      ],
      "execution_count": 0,
      "outputs": [
        {
          "output_type": "stream",
          "text": [
            "Root Mean Square Error is: 17.46604\n"
          ],
          "name": "stdout"
        }
      ]
    },
    {
      "cell_type": "code",
      "metadata": {
        "id": "BEBCIXf0kj8G",
        "colab_type": "code",
        "colab": {}
      },
      "source": [
        ""
      ],
      "execution_count": 0,
      "outputs": []
    },
    {
      "cell_type": "code",
      "metadata": {
        "id": "yN3-Tkc_kVoh",
        "colab_type": "code",
        "colab": {}
      },
      "source": [
        ""
      ],
      "execution_count": 0,
      "outputs": []
    },
    {
      "cell_type": "markdown",
      "metadata": {
        "id": "hS63bptjJAJC",
        "colab_type": "text"
      },
      "source": [
        "# Making DTS Prediction on Submission Data"
      ]
    },
    {
      "cell_type": "code",
      "metadata": {
        "id": "3JzvX4LnJIi0",
        "colab_type": "code",
        "colab": {}
      },
      "source": [
        "y_pred_totcb3=[]"
      ],
      "execution_count": 0,
      "outputs": []
    },
    {
      "cell_type": "code",
      "metadata": {
        "id": "xBmnjDyiJmNP",
        "colab_type": "code",
        "colab": {}
      },
      "source": [
        "p3 = best_xgb_model.predict(df2)\n",
        "y_pred_totcb3.append(p3)"
      ],
      "execution_count": 0,
      "outputs": []
    },
    {
      "cell_type": "code",
      "metadata": {
        "id": "bv6NudYUJ2P_",
        "colab_type": "code",
        "colab": {}
      },
      "source": [
        "sub_xgb_dts_pred =  np.mean(y_pred_totcb3, 0)"
      ],
      "execution_count": 0,
      "outputs": []
    },
    {
      "cell_type": "code",
      "metadata": {
        "id": "Zp8In1_wKAkt",
        "colab_type": "code",
        "colab": {}
      },
      "source": [
        "results['DTS'] = sub_xgb_dts_pred"
      ],
      "execution_count": 0,
      "outputs": []
    },
    {
      "cell_type": "code",
      "metadata": {
        "id": "GUBWMqHdKGPx",
        "colab_type": "code",
        "outputId": "b53d5f58-74b7-4ec9-b266-c625c1860979",
        "colab": {
          "base_uri": "https://localhost:8080/",
          "height": 202
        }
      },
      "source": [
        "results.head()"
      ],
      "execution_count": 0,
      "outputs": [
        {
          "output_type": "execute_result",
          "data": {
            "text/html": [
              "<div>\n",
              "<style scoped>\n",
              "    .dataframe tbody tr th:only-of-type {\n",
              "        vertical-align: middle;\n",
              "    }\n",
              "\n",
              "    .dataframe tbody tr th {\n",
              "        vertical-align: top;\n",
              "    }\n",
              "\n",
              "    .dataframe thead th {\n",
              "        text-align: right;\n",
              "    }\n",
              "</style>\n",
              "<table border=\"1\" class=\"dataframe\">\n",
              "  <thead>\n",
              "    <tr style=\"text-align: right;\">\n",
              "      <th></th>\n",
              "      <th>DTC</th>\n",
              "      <th>DTS</th>\n",
              "    </tr>\n",
              "  </thead>\n",
              "  <tbody>\n",
              "    <tr>\n",
              "      <th>0</th>\n",
              "      <td>102.714747</td>\n",
              "      <td>210.978226</td>\n",
              "    </tr>\n",
              "    <tr>\n",
              "      <th>1</th>\n",
              "      <td>101.761868</td>\n",
              "      <td>212.262375</td>\n",
              "    </tr>\n",
              "    <tr>\n",
              "      <th>2</th>\n",
              "      <td>103.348231</td>\n",
              "      <td>215.751892</td>\n",
              "    </tr>\n",
              "    <tr>\n",
              "      <th>3</th>\n",
              "      <td>103.414831</td>\n",
              "      <td>212.604477</td>\n",
              "    </tr>\n",
              "    <tr>\n",
              "      <th>4</th>\n",
              "      <td>104.958243</td>\n",
              "      <td>218.427734</td>\n",
              "    </tr>\n",
              "  </tbody>\n",
              "</table>\n",
              "</div>"
            ],
            "text/plain": [
              "          DTC         DTS\n",
              "0  102.714747  210.978226\n",
              "1  101.761868  212.262375\n",
              "2  103.348231  215.751892\n",
              "3  103.414831  212.604477\n",
              "4  104.958243  218.427734"
            ]
          },
          "metadata": {
            "tags": []
          },
          "execution_count": 43
        }
      ]
    },
    {
      "cell_type": "code",
      "metadata": {
        "id": "enZk2f8AL88B",
        "colab_type": "code",
        "colab": {}
      },
      "source": [
        "\"#teamname_submission_#num.csv\""
      ],
      "execution_count": 0,
      "outputs": []
    },
    {
      "cell_type": "code",
      "metadata": {
        "id": "eAL_F_a4KJAu",
        "colab_type": "code",
        "colab": {}
      },
      "source": [
        "results.to_csv('TEAM_TRIUMPHANT_submission_01.csv', index=False)"
      ],
      "execution_count": 0,
      "outputs": []
    },
    {
      "cell_type": "code",
      "metadata": {
        "id": "_dANhpJlNgi9",
        "colab_type": "code",
        "colab": {}
      },
      "source": [
        ""
      ],
      "execution_count": 0,
      "outputs": []
    }
  ]
}