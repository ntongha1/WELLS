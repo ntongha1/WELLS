{
  "nbformat": 4,
  "nbformat_minor": 0,
  "metadata": {
    "colab": {
      "name": "Copy of XG_Boost1.ipynb",
      "provenance": [],
      "toc_visible": true
    },
    "kernelspec": {
      "name": "python3",
      "display_name": "Python 3"
    }
  },
  "cells": [
    {
      "cell_type": "code",
      "metadata": {
        "id": "fQZEpQiyMRnp",
        "colab_type": "code",
        "outputId": "e6c53ec1-eff3-42b0-c98b-4f1b27717e73",
        "colab": {
          "base_uri": "https://localhost:8080/",
          "height": 72
        }
      },
      "source": [
        "import numpy as np\n",
        "import pandas as pd\n",
        "import matplotlib.pyplot as plt\n",
        "%matplotlib inline\n",
        "import seaborn as sns\n",
        "import requests\n",
        "from io import StringIO \n",
        "import warnings\n",
        "warnings.filterwarnings('ignore')"
      ],
      "execution_count": 0,
      "outputs": [
        {
          "output_type": "stream",
          "text": [
            "/usr/local/lib/python3.6/dist-packages/statsmodels/tools/_testing.py:19: FutureWarning: pandas.util.testing is deprecated. Use the functions in the public API at pandas.testing instead.\n",
            "  import pandas.util.testing as tm\n"
          ],
          "name": "stderr"
        }
      ]
    },
    {
      "cell_type": "code",
      "metadata": {
        "id": "UhKllu_PNJsw",
        "colab_type": "code",
        "colab": {}
      },
      "source": [
        "df1 = pd.read_csv(\"/content/drive/My Drive/PDDA/Data3_1_2020/train.csv\")\n",
        "df2 = pd.read_csv(\"/content/drive/My Drive/PDDA/Data3_1_2020/test.csv\")\n",
        "valid = pd.read_csv(\"/content/drive/My Drive/PDDA/Part_Of_Expected_Results/real_result_20perc.csv\")"
      ],
      "execution_count": 0,
      "outputs": []
    },
    {
      "cell_type": "code",
      "metadata": {
        "id": "4SQzPkqZNNdl",
        "colab_type": "code",
        "colab": {}
      },
      "source": [
        "# remove all rows that contains missing value\n",
        "df1.replace(['-999', -999], np.nan, inplace=True)\n",
        "df1.dropna(axis=0, inplace=True)\n",
        "\n",
        "df2.replace(['-999', -999], np.nan, inplace=True)\n",
        "df2.dropna(axis=0, inplace=True)"
      ],
      "execution_count": 0,
      "outputs": []
    },
    {
      "cell_type": "code",
      "metadata": {
        "id": "p-PV7lQHNTdT",
        "colab_type": "code",
        "colab": {}
      },
      "source": [
        "# seperate the features and targets\n",
        "X=df1.drop([\"DTC\",\"DTS\",],axis =1)\n",
        "y = df1.DTC"
      ],
      "execution_count": 0,
      "outputs": []
    },
    {
      "cell_type": "code",
      "metadata": {
        "id": "n70rTsnTawt1",
        "colab_type": "code",
        "colab": {}
      },
      "source": [
        "test = valid.drop(['DTC','DTS'],axis=1)"
      ],
      "execution_count": 0,
      "outputs": []
    },
    {
      "cell_type": "code",
      "metadata": {
        "id": "hwN-QFaVawqm",
        "colab_type": "code",
        "colab": {}
      },
      "source": [
        ""
      ],
      "execution_count": 0,
      "outputs": []
    },
    {
      "cell_type": "code",
      "metadata": {
        "id": "OzpZPpgkgU2w",
        "colab_type": "code",
        "outputId": "da620f24-6778-44f8-fd67-67055c007221",
        "colab": {
          "base_uri": "https://localhost:8080/",
          "height": 104
        }
      },
      "source": [
        "print(y[:5][:])"
      ],
      "execution_count": 0,
      "outputs": [
        {
          "output_type": "stream",
          "text": [
            "[[125.9611 306.8676]\n",
            " [125.9726 305.8347]\n",
            " [125.8528 305.9089]\n",
            " [125.7362 305.1737]\n",
            " [125.9774 304.4476]]\n"
          ],
          "name": "stdout"
        }
      ]
    },
    {
      "cell_type": "code",
      "metadata": {
        "id": "wlCjx76_c62I",
        "colab_type": "code",
        "outputId": "c484a8ed-61e9-4c84-80ed-9fef75ef7cdc",
        "colab": {
          "base_uri": "https://localhost:8080/",
          "height": 34
        }
      },
      "source": [
        "y.shape"
      ],
      "execution_count": 0,
      "outputs": [
        {
          "output_type": "execute_result",
          "data": {
            "text/plain": [
              "(20525, 2)"
            ]
          },
          "metadata": {
            "tags": []
          },
          "execution_count": 80
        }
      ]
    },
    {
      "cell_type": "code",
      "metadata": {
        "id": "RSX-DpnaS8jP",
        "colab_type": "code",
        "outputId": "847277f9-d47c-4ba9-faf6-a9f51e721f31",
        "colab": {
          "base_uri": "https://localhost:8080/",
          "height": 156
        }
      },
      "source": [
        "!pip install bayesian-optimization"
      ],
      "execution_count": 0,
      "outputs": [
        {
          "output_type": "stream",
          "text": [
            "Collecting bayesian-optimization\n",
            "  Downloading https://files.pythonhosted.org/packages/b5/26/9842333adbb8f17bcb3d699400a8b1ccde0af0b6de8d07224e183728acdf/bayesian_optimization-1.1.0-py3-none-any.whl\n",
            "Requirement already satisfied: scikit-learn>=0.18.0 in /usr/local/lib/python3.6/dist-packages (from bayesian-optimization) (0.22.2.post1)\n",
            "Requirement already satisfied: scipy>=0.14.0 in /usr/local/lib/python3.6/dist-packages (from bayesian-optimization) (1.4.1)\n",
            "Requirement already satisfied: numpy>=1.9.0 in /usr/local/lib/python3.6/dist-packages (from bayesian-optimization) (1.18.2)\n",
            "Requirement already satisfied: joblib>=0.11 in /usr/local/lib/python3.6/dist-packages (from scikit-learn>=0.18.0->bayesian-optimization) (0.14.1)\n",
            "Installing collected packages: bayesian-optimization\n",
            "Successfully installed bayesian-optimization-1.1.0\n"
          ],
          "name": "stdout"
        }
      ]
    },
    {
      "cell_type": "code",
      "metadata": {
        "id": "CacH-uy-SQYi",
        "colab_type": "code",
        "colab": {}
      },
      "source": [
        "import lightgbm as lgb\n",
        "import catboost as cgb\n",
        "import xgboost as xgb\n",
        "from bayes_opt import BayesianOptimization\n",
        "from sklearn.datasets import load_boston\n",
        "from sklearn.metrics import r2_score\n",
        "import warnings\n",
        "warnings.filterwarnings('ignore')"
      ],
      "execution_count": 0,
      "outputs": []
    },
    {
      "cell_type": "code",
      "metadata": {
        "id": "WnF8sdcbQxmQ",
        "colab_type": "code",
        "colab": {}
      },
      "source": [
        "\n",
        "# Define R-Sqaured\n",
        "def xgb_r2(preds, dtrain):\n",
        "    labels = dtrain.get_label()\n",
        "    return 'r2', r2_score(preds, labels)\n",
        "  \n",
        "dtrain = xgb.DMatrix(X, y, feature_names=X.columns.values)\n",
        "\n",
        "# Define Objective Function\n",
        "def hyp_xgb(max_depth, subsample, colsample_bytree,min_child_weight, gamma ):\n",
        "    params = {\n",
        "    'n_estimators': 500,\n",
        "    'eta': 0.05,\n",
        "    'objective': 'reg:linear',\n",
        "    'eval_metric':'rmse', # Optional --> Use eval_metric if you want to stop evaluation based on eval_metric \n",
        "    'silent': 1\n",
        "     }\n",
        "    params['max_depth'] = int(round(max_depth))\n",
        "    params['subsample'] = max(min(subsample, 1), 0)\n",
        "    params['colsample_bytree'] = max(min(colsample_bytree, 1), 0)\n",
        "    params['min_child_weight'] = int(min_child_weight)\n",
        "    params['gamma'] = max(gamma, 0)\n",
        "    scores = xgb.cv(params, dtrain, num_boost_round=1000,verbose_eval=False, early_stopping_rounds=10, feval=xgb_r2, maximize=True, nfold=5)\n",
        "    return  scores['test-r2-mean'].iloc[-1]"
      ],
      "execution_count": 0,
      "outputs": []
    },
    {
      "cell_type": "code",
      "metadata": {
        "id": "prVvli76SPOO",
        "colab_type": "code",
        "colab": {}
      },
      "source": [
        "\n",
        "pds ={\n",
        "  'min_child_weight':(14, 20),\n",
        "  'gamma':(0, 5),\n",
        "  'subsample':(0.5, 1),\n",
        "  'colsample_bytree':(0.1, 1),\n",
        "  'max_depth': (5, 10)\n",
        "}"
      ],
      "execution_count": 0,
      "outputs": []
    },
    {
      "cell_type": "code",
      "metadata": {
        "id": "Q2olgkdfTrrB",
        "colab_type": "code",
        "outputId": "13279285-4c72-40ce-ed9a-b71cb92dd3c8",
        "colab": {
          "base_uri": "https://localhost:8080/",
          "height": 502
        }
      },
      "source": [
        "# Surrogate model\n",
        "\n",
        "optimizer = BayesianOptimization(hyp_xgb, pds, random_state=1234)\n",
        "                                  \n",
        "# Optimize\n",
        "\n",
        "optimizer.maximize(init_points=5, n_iter=20)"
      ],
      "execution_count": 0,
      "outputs": [
        {
          "output_type": "stream",
          "text": [
            "|   iter    |  target   | colsam... |   gamma   | max_depth | min_ch... | subsample |\n",
            "-------------------------------------------------------------------------------------\n",
            "| \u001b[0m 1       \u001b[0m | \u001b[0m-1.024e+0\u001b[0m | \u001b[0m 0.2724  \u001b[0m | \u001b[0m 3.111   \u001b[0m | \u001b[0m 7.189   \u001b[0m | \u001b[0m 18.71   \u001b[0m | \u001b[0m 0.89    \u001b[0m |\n",
            "| \u001b[95m 2       \u001b[0m | \u001b[95m-5.733e+0\u001b[0m | \u001b[95m 0.3453  \u001b[0m | \u001b[95m 1.382   \u001b[0m | \u001b[95m 9.009   \u001b[0m | \u001b[95m 19.75   \u001b[0m | \u001b[95m 0.938   \u001b[0m |\n",
            "| \u001b[0m 3       \u001b[0m | \u001b[0m-5.747e+0\u001b[0m | \u001b[0m 0.422   \u001b[0m | \u001b[0m 2.505   \u001b[0m | \u001b[0m 8.417   \u001b[0m | \u001b[0m 18.28   \u001b[0m | \u001b[0m 0.6851  \u001b[0m |\n",
            "| \u001b[95m 4       \u001b[0m | \u001b[95m-5.67e+03\u001b[0m | \u001b[95m 0.6051  \u001b[0m | \u001b[95m 2.515   \u001b[0m | \u001b[95m 5.069   \u001b[0m | \u001b[95m 18.64   \u001b[0m | \u001b[95m 0.9413  \u001b[0m |\n",
            "| \u001b[0m 5       \u001b[0m | \u001b[0m-5.737e+0\u001b[0m | \u001b[0m 0.4284  \u001b[0m | \u001b[0m 3.077   \u001b[0m | \u001b[0m 5.377   \u001b[0m | \u001b[0m 16.21   \u001b[0m | \u001b[0m 0.9666  \u001b[0m |\n",
            "| \u001b[0m 6       \u001b[0m | \u001b[0m-5.737e+0\u001b[0m | \u001b[0m 0.4284  \u001b[0m | \u001b[0m 3.077   \u001b[0m | \u001b[0m 5.377   \u001b[0m | \u001b[0m 16.21   \u001b[0m | \u001b[0m 0.9666  \u001b[0m |\n",
            "| \u001b[0m 7       \u001b[0m | \u001b[0m-5.714e+0\u001b[0m | \u001b[0m 0.4442  \u001b[0m | \u001b[0m 4.107   \u001b[0m | \u001b[0m 7.025   \u001b[0m | \u001b[0m 18.49   \u001b[0m | \u001b[0m 0.8878  \u001b[0m |\n",
            "| \u001b[0m 8       \u001b[0m | \u001b[0m-1.024e+0\u001b[0m | \u001b[0m 0.1999  \u001b[0m | \u001b[0m 1.093   \u001b[0m | \u001b[0m 8.358   \u001b[0m | \u001b[0m 19.16   \u001b[0m | \u001b[0m 0.8987  \u001b[0m |\n",
            "| \u001b[95m 9       \u001b[0m | \u001b[95m-5.666e+0\u001b[0m | \u001b[95m 0.8486  \u001b[0m | \u001b[95m 4.032   \u001b[0m | \u001b[95m 5.49    \u001b[0m | \u001b[95m 16.28   \u001b[0m | \u001b[95m 0.9397  \u001b[0m |\n",
            "| \u001b[95m 10      \u001b[0m | \u001b[95m-5.644e+0\u001b[0m | \u001b[95m 0.8625  \u001b[0m | \u001b[95m 1.452   \u001b[0m | \u001b[95m 8.438   \u001b[0m | \u001b[95m 14.29   \u001b[0m | \u001b[95m 0.6037  \u001b[0m |\n",
            "| \u001b[95m 11      \u001b[0m | \u001b[95m-5.628e+0\u001b[0m | \u001b[95m 0.8632  \u001b[0m | \u001b[95m 0.2084  \u001b[0m | \u001b[95m 5.407   \u001b[0m | \u001b[95m 17.02   \u001b[0m | \u001b[95m 0.884   \u001b[0m |\n",
            "| \u001b[0m 12      \u001b[0m | \u001b[0m-5.671e+0\u001b[0m | \u001b[0m 0.6047  \u001b[0m | \u001b[0m 1.692   \u001b[0m | \u001b[0m 7.583   \u001b[0m | \u001b[0m 19.63   \u001b[0m | \u001b[0m 0.5533  \u001b[0m |\n",
            "| \u001b[0m 13      \u001b[0m | \u001b[0m-5.73e+03\u001b[0m | \u001b[0m 0.4288  \u001b[0m | \u001b[0m 3.186   \u001b[0m | \u001b[0m 7.701   \u001b[0m | \u001b[0m 19.98   \u001b[0m | \u001b[0m 0.6508  \u001b[0m |\n",
            "| \u001b[0m 14      \u001b[0m | \u001b[0m-5.681e+0\u001b[0m | \u001b[0m 0.7808  \u001b[0m | \u001b[0m 3.94    \u001b[0m | \u001b[0m 6.53    \u001b[0m | \u001b[0m 15.73   \u001b[0m | \u001b[0m 0.8053  \u001b[0m |\n",
            "| \u001b[0m 15      \u001b[0m | \u001b[0m-5.678e+0\u001b[0m | \u001b[0m 0.6746  \u001b[0m | \u001b[0m 3.693   \u001b[0m | \u001b[0m 7.172   \u001b[0m | \u001b[0m 14.73   \u001b[0m | \u001b[0m 0.5112  \u001b[0m |\n",
            "| \u001b[0m 16      \u001b[0m | \u001b[0m-5.709e+0\u001b[0m | \u001b[0m 0.4925  \u001b[0m | \u001b[0m 4.43    \u001b[0m | \u001b[0m 8.1     \u001b[0m | \u001b[0m 18.57   \u001b[0m | \u001b[0m 0.9503  \u001b[0m |\n",
            "| \u001b[0m 17      \u001b[0m | \u001b[0m-5.679e+0\u001b[0m | \u001b[0m 0.8237  \u001b[0m | \u001b[0m 1.83    \u001b[0m | \u001b[0m 8.213   \u001b[0m | \u001b[0m 16.69   \u001b[0m | \u001b[0m 0.6291  \u001b[0m |\n",
            "| \u001b[0m 18      \u001b[0m | \u001b[0m-5.656e+0\u001b[0m | \u001b[0m 0.8868  \u001b[0m | \u001b[0m 4.44    \u001b[0m | \u001b[0m 8.408   \u001b[0m | \u001b[0m 17.16   \u001b[0m | \u001b[0m 0.715   \u001b[0m |\n",
            "| \u001b[95m 19      \u001b[0m | \u001b[95m-5.623e+0\u001b[0m | \u001b[95m 0.8606  \u001b[0m | \u001b[95m 4.794   \u001b[0m | \u001b[95m 6.588   \u001b[0m | \u001b[95m 14.03   \u001b[0m | \u001b[95m 0.9863  \u001b[0m |\n",
            "| \u001b[0m 20      \u001b[0m | \u001b[0m-5.714e+0\u001b[0m | \u001b[0m 0.4835  \u001b[0m | \u001b[0m 1.234   \u001b[0m | \u001b[0m 9.035   \u001b[0m | \u001b[0m 16.63   \u001b[0m | \u001b[0m 0.8658  \u001b[0m |\n",
            "| \u001b[0m 21      \u001b[0m | \u001b[0m-5.639e+0\u001b[0m | \u001b[0m 0.8714  \u001b[0m | \u001b[0m 2.104   \u001b[0m | \u001b[0m 9.243   \u001b[0m | \u001b[0m 16.27   \u001b[0m | \u001b[0m 0.8152  \u001b[0m |\n",
            "| \u001b[0m 22      \u001b[0m | \u001b[0m-5.709e+0\u001b[0m | \u001b[0m 0.5375  \u001b[0m | \u001b[0m 3.085   \u001b[0m | \u001b[0m 9.858   \u001b[0m | \u001b[0m 19.74   \u001b[0m | \u001b[0m 0.9198  \u001b[0m |\n",
            "| \u001b[0m 23      \u001b[0m | \u001b[0m-5.747e+0\u001b[0m | \u001b[0m 0.3113  \u001b[0m | \u001b[0m 1.157   \u001b[0m | \u001b[0m 9.883   \u001b[0m | \u001b[0m 14.11   \u001b[0m | \u001b[0m 0.8079  \u001b[0m |\n",
            "| \u001b[0m 24      \u001b[0m | \u001b[0m-5.644e+0\u001b[0m | \u001b[0m 0.9922  \u001b[0m | \u001b[0m 4.341   \u001b[0m | \u001b[0m 8.778   \u001b[0m | \u001b[0m 16.42   \u001b[0m | \u001b[0m 0.5365  \u001b[0m |\n",
            "| \u001b[0m 25      \u001b[0m | \u001b[0m-5.673e+0\u001b[0m | \u001b[0m 0.7035  \u001b[0m | \u001b[0m 0.6438  \u001b[0m | \u001b[0m 9.366   \u001b[0m | \u001b[0m 19.23   \u001b[0m | \u001b[0m 0.8662  \u001b[0m |\n",
            "=====================================================================================\n"
          ],
          "name": "stdout"
        }
      ]
    },
    {
      "cell_type": "markdown",
      "metadata": {
        "id": "QCzXvDviW_DT",
        "colab_type": "text"
      },
      "source": [
        "# Implementing Models"
      ]
    },
    {
      "cell_type": "code",
      "metadata": {
        "id": "sQr00FP0Tuy5",
        "colab_type": "code",
        "colab": {}
      },
      "source": [
        "import xgboost as xgb\n",
        "from sklearn.metrics import mean_squared_error\n",
        "import pandas as pd\n",
        "import numpy as np"
      ],
      "execution_count": 0,
      "outputs": []
    },
    {
      "cell_type": "code",
      "metadata": {
        "id": "JJMqS6xzXDfQ",
        "colab_type": "code",
        "colab": {}
      },
      "source": [
        "data_dmatrix = xgb.DMatrix(data=X,label=y)"
      ],
      "execution_count": 0,
      "outputs": []
    },
    {
      "cell_type": "code",
      "metadata": {
        "id": "-fX6oew7avRh",
        "colab_type": "code",
        "colab": {}
      },
      "source": [
        "best_xgb_model = xgb.XGBRegressor(colsample_bytree=0.8606,\n",
        "                 gamma=4.794,                 \n",
        "                 learning_rate=0.07,\n",
        "                 max_depth=7,\n",
        "                 min_child_weight=14.03,\n",
        "                 n_estimators=1000,                                                                    \n",
        "                 subsample=0.9863,\n",
        "                 seed=1234)"
      ],
      "execution_count": 0,
      "outputs": []
    },
    {
      "cell_type": "code",
      "metadata": {
        "id": "eT37bup0bcr5",
        "colab_type": "code",
        "outputId": "4f7399be-1a07-4d29-e98f-bc54dfd80976",
        "colab": {
          "base_uri": "https://localhost:8080/",
          "height": 156
        }
      },
      "source": [
        "best_xgb_model.fit(X,y)"
      ],
      "execution_count": 0,
      "outputs": [
        {
          "output_type": "stream",
          "text": [
            "[19:07:44] WARNING: /workspace/src/objective/regression_obj.cu:152: reg:linear is now deprecated in favor of reg:squarederror.\n"
          ],
          "name": "stdout"
        },
        {
          "output_type": "execute_result",
          "data": {
            "text/plain": [
              "XGBRegressor(base_score=0.5, booster='gbtree', colsample_bylevel=1,\n",
              "             colsample_bynode=1, colsample_bytree=0.8606, gamma=4.794,\n",
              "             importance_type='gain', learning_rate=0.07, max_delta_step=0,\n",
              "             max_depth=7, min_child_weight=14.03, missing=None,\n",
              "             n_estimators=1000, n_jobs=1, nthread=None, objective='reg:linear',\n",
              "             random_state=0, reg_alpha=0, reg_lambda=1, scale_pos_weight=1,\n",
              "             seed=1234, silent=None, subsample=0.9863, verbosity=1)"
            ]
          },
          "metadata": {
            "tags": []
          },
          "execution_count": 15
        }
      ]
    },
    {
      "cell_type": "code",
      "metadata": {
        "id": "D6IYb2KKaSZM",
        "colab_type": "code",
        "colab": {}
      },
      "source": [
        "cat_DTC_preds = best_xgb_model.predict(test)"
      ],
      "execution_count": 0,
      "outputs": []
    },
    {
      "cell_type": "markdown",
      "metadata": {
        "id": "4HC0mYhTcIy6",
        "colab_type": "text"
      },
      "source": [
        "# Checking model performance with Validation Data"
      ]
    },
    {
      "cell_type": "code",
      "metadata": {
        "id": "nWS3dBfUaSVI",
        "colab_type": "code",
        "colab": {}
      },
      "source": [
        "real_DTC_values = valid['DTC']"
      ],
      "execution_count": 0,
      "outputs": []
    },
    {
      "cell_type": "code",
      "metadata": {
        "id": "WyyCRAnAaSPl",
        "colab_type": "code",
        "outputId": "7788eb5d-b981-4543-c786-255a43ccd35a",
        "colab": {
          "base_uri": "https://localhost:8080/",
          "height": 34
        }
      },
      "source": [
        "print('Root Mean Square Error is:', '{:.5f}'.format(np.sqrt(mean_squared_error(real_DTC_values, cat_DTC_preds))))"
      ],
      "execution_count": 0,
      "outputs": [
        {
          "output_type": "stream",
          "text": [
            "Root Mean Square Error is: 4.61911\n"
          ],
          "name": "stdout"
        }
      ]
    },
    {
      "cell_type": "code",
      "metadata": {
        "id": "dxxdrIb6aSKF",
        "colab_type": "code",
        "colab": {}
      },
      "source": [
        ""
      ],
      "execution_count": 0,
      "outputs": []
    },
    {
      "cell_type": "code",
      "metadata": {
        "id": "w7LomKGJaSFQ",
        "colab_type": "code",
        "colab": {}
      },
      "source": [
        ""
      ],
      "execution_count": 0,
      "outputs": []
    },
    {
      "cell_type": "markdown",
      "metadata": {
        "id": "80PNtx3icedm",
        "colab_type": "text"
      },
      "source": [
        "# Making Predictions for DTS"
      ]
    },
    {
      "cell_type": "code",
      "metadata": {
        "id": "cVn42K5-aSA3",
        "colab_type": "code",
        "colab": {}
      },
      "source": [
        "X=df1.drop([\"DTC\",\"DTS\",],axis =1)\n",
        "y = df1.DTS"
      ],
      "execution_count": 0,
      "outputs": []
    },
    {
      "cell_type": "code",
      "metadata": {
        "id": "cG1hiUxBaucF",
        "colab_type": "code",
        "outputId": "923137c5-b616-4d50-8b80-ce68c5c64c07",
        "colab": {
          "base_uri": "https://localhost:8080/",
          "height": 156
        }
      },
      "source": [
        "best_xgb_model.fit(X,y)"
      ],
      "execution_count": 0,
      "outputs": [
        {
          "output_type": "stream",
          "text": [
            "[19:11:50] WARNING: /workspace/src/objective/regression_obj.cu:152: reg:linear is now deprecated in favor of reg:squarederror.\n"
          ],
          "name": "stdout"
        },
        {
          "output_type": "execute_result",
          "data": {
            "text/plain": [
              "XGBRegressor(base_score=0.5, booster='gbtree', colsample_bylevel=1,\n",
              "             colsample_bynode=1, colsample_bytree=0.8606, gamma=4.794,\n",
              "             importance_type='gain', learning_rate=0.07, max_delta_step=0,\n",
              "             max_depth=7, min_child_weight=14.03, missing=None,\n",
              "             n_estimators=1000, n_jobs=1, nthread=None, objective='reg:linear',\n",
              "             random_state=0, reg_alpha=0, reg_lambda=1, scale_pos_weight=1,\n",
              "             seed=1234, silent=None, subsample=0.9863, verbosity=1)"
            ]
          },
          "metadata": {
            "tags": []
          },
          "execution_count": 23
        }
      ]
    },
    {
      "cell_type": "code",
      "metadata": {
        "id": "zGc97kLPZr8b",
        "colab_type": "code",
        "colab": {}
      },
      "source": [
        "cat_DTS_preds = best_xgb_model.predict(test)"
      ],
      "execution_count": 0,
      "outputs": []
    },
    {
      "cell_type": "markdown",
      "metadata": {
        "id": "We7io2TOdF7_",
        "colab_type": "text"
      },
      "source": [
        "# Checking Model performance on DTS"
      ]
    },
    {
      "cell_type": "code",
      "metadata": {
        "id": "wGMnS-CyckDa",
        "colab_type": "code",
        "colab": {}
      },
      "source": [
        "real_DTS_values = valid['DTS']"
      ],
      "execution_count": 0,
      "outputs": []
    },
    {
      "cell_type": "code",
      "metadata": {
        "id": "Qcanky_QckAz",
        "colab_type": "code",
        "outputId": "7b833222-e23c-4dad-cd29-8e0fbd6cd838",
        "colab": {
          "base_uri": "https://localhost:8080/",
          "height": 34
        }
      },
      "source": [
        "print('Root Mean Square Error is:', '{:.5f}'.format(np.sqrt(mean_squared_error(real_DTS_values, cat_DTS_preds))))"
      ],
      "execution_count": 0,
      "outputs": [
        {
          "output_type": "stream",
          "text": [
            "Root Mean Square Error is: 24.32433\n"
          ],
          "name": "stdout"
        }
      ]
    },
    {
      "cell_type": "code",
      "metadata": {
        "id": "sq6tsX7-cj-F",
        "colab_type": "code",
        "colab": {}
      },
      "source": [
        ""
      ],
      "execution_count": 0,
      "outputs": []
    },
    {
      "cell_type": "markdown",
      "metadata": {
        "id": "6tbo8UtMdwx2",
        "colab_type": "text"
      },
      "source": [
        "# Checking Overall Performance "
      ]
    },
    {
      "cell_type": "code",
      "metadata": {
        "id": "zwr_RRc9cj7z",
        "colab_type": "code",
        "colab": {}
      },
      "source": [
        "results = pd.DataFrame(columns=['DTC','DTS'])"
      ],
      "execution_count": 0,
      "outputs": []
    },
    {
      "cell_type": "code",
      "metadata": {
        "id": "TfAjLqofd5FN",
        "colab_type": "code",
        "outputId": "8325acf6-a77e-49d3-8652-674b525eb615",
        "colab": {
          "base_uri": "https://localhost:8080/",
          "height": 202
        }
      },
      "source": [
        "results['DTC'] = cat_DTC_preds\n",
        "results['DTS'] = cat_DTS_preds\n",
        "results.head()"
      ],
      "execution_count": 0,
      "outputs": [
        {
          "output_type": "execute_result",
          "data": {
            "text/html": [
              "<div>\n",
              "<style scoped>\n",
              "    .dataframe tbody tr th:only-of-type {\n",
              "        vertical-align: middle;\n",
              "    }\n",
              "\n",
              "    .dataframe tbody tr th {\n",
              "        vertical-align: top;\n",
              "    }\n",
              "\n",
              "    .dataframe thead th {\n",
              "        text-align: right;\n",
              "    }\n",
              "</style>\n",
              "<table border=\"1\" class=\"dataframe\">\n",
              "  <thead>\n",
              "    <tr style=\"text-align: right;\">\n",
              "      <th></th>\n",
              "      <th>DTC</th>\n",
              "      <th>DTS</th>\n",
              "    </tr>\n",
              "  </thead>\n",
              "  <tbody>\n",
              "    <tr>\n",
              "      <th>0</th>\n",
              "      <td>68.681435</td>\n",
              "      <td>126.749466</td>\n",
              "    </tr>\n",
              "    <tr>\n",
              "      <th>1</th>\n",
              "      <td>93.896721</td>\n",
              "      <td>175.521484</td>\n",
              "    </tr>\n",
              "    <tr>\n",
              "      <th>2</th>\n",
              "      <td>87.239418</td>\n",
              "      <td>182.808304</td>\n",
              "    </tr>\n",
              "    <tr>\n",
              "      <th>3</th>\n",
              "      <td>77.822433</td>\n",
              "      <td>155.265884</td>\n",
              "    </tr>\n",
              "    <tr>\n",
              "      <th>4</th>\n",
              "      <td>77.800446</td>\n",
              "      <td>151.914185</td>\n",
              "    </tr>\n",
              "  </tbody>\n",
              "</table>\n",
              "</div>"
            ],
            "text/plain": [
              "         DTC         DTS\n",
              "0  68.681435  126.749466\n",
              "1  93.896721  175.521484\n",
              "2  87.239418  182.808304\n",
              "3  77.822433  155.265884\n",
              "4  77.800446  151.914185"
            ]
          },
          "metadata": {
            "tags": []
          },
          "execution_count": 28
        }
      ]
    },
    {
      "cell_type": "code",
      "metadata": {
        "id": "nLz6zRYGd4-_",
        "colab_type": "code",
        "colab": {}
      },
      "source": [
        "results_data = np.array(results)"
      ],
      "execution_count": 0,
      "outputs": []
    },
    {
      "cell_type": "code",
      "metadata": {
        "id": "mbpWkVbVd45z",
        "colab_type": "code",
        "colab": {}
      },
      "source": [
        "valid_data = np.array(valid)\n",
        "y_real = valid_data[:,-2:]"
      ],
      "execution_count": 0,
      "outputs": []
    },
    {
      "cell_type": "code",
      "metadata": {
        "id": "kC9JlyI1cj5b",
        "colab_type": "code",
        "outputId": "bc3b166b-6718-4e8f-a18b-512871802955",
        "colab": {
          "base_uri": "https://localhost:8080/",
          "height": 34
        }
      },
      "source": [
        " print('Root Mean Square Error is:', '{:.5f}'.format(np.sqrt(mean_squared_error(y_real, results))))"
      ],
      "execution_count": 0,
      "outputs": [
        {
          "output_type": "stream",
          "text": [
            "Root Mean Square Error is: 17.50727\n"
          ],
          "name": "stdout"
        }
      ]
    },
    {
      "cell_type": "code",
      "metadata": {
        "id": "hRQPLxKUcj23",
        "colab_type": "code",
        "colab": {}
      },
      "source": [
        ""
      ],
      "execution_count": 0,
      "outputs": []
    },
    {
      "cell_type": "markdown",
      "metadata": {
        "id": "XIVFD8v-gyUC",
        "colab_type": "text"
      },
      "source": [
        "# Trying out gradient boosting"
      ]
    },
    {
      "cell_type": "markdown",
      "metadata": {
        "id": "ytcXsl8Egivh",
        "colab_type": "text"
      },
      "source": [
        "#Predictiing DTC"
      ]
    },
    {
      "cell_type": "code",
      "metadata": {
        "id": "f_bTD4yPghN5",
        "colab_type": "code",
        "colab": {}
      },
      "source": [
        "# seperate the features and targets\n",
        "X=df1.drop([\"DTC\",\"DTS\",],axis =1)\n",
        "y = df1.DTC"
      ],
      "execution_count": 0,
      "outputs": []
    },
    {
      "cell_type": "code",
      "metadata": {
        "id": "ZMEYtPh0h0NL",
        "colab_type": "code",
        "colab": {}
      },
      "source": [
        "from sklearn.model_selection import train_test_split"
      ],
      "execution_count": 0,
      "outputs": []
    },
    {
      "cell_type": "code",
      "metadata": {
        "id": "G1pogpnkhbiK",
        "colab_type": "code",
        "colab": {}
      },
      "source": [
        "# train test split\n",
        "# please remember to use random_state for all randomization steps, this will ensure we get the same results \n",
        "# as yours during the validation phase. \n",
        "X_train, X_test, y_train, y_test = train_test_split(X, y,test_size=0.1 ,random_state=1234)\n"
      ],
      "execution_count": 0,
      "outputs": []
    },
    {
      "cell_type": "code",
      "metadata": {
        "id": "01NRJQxwg2Rw",
        "colab_type": "code",
        "colab": {}
      },
      "source": [
        "from sklearn.ensemble import GradientBoostingRegressor"
      ],
      "execution_count": 0,
      "outputs": []
    },
    {
      "cell_type": "code",
      "metadata": {
        "id": "0THKyxsDg3Gq",
        "colab_type": "code",
        "outputId": "a7aac2ea-c34c-405a-8de8-1bf43706bce5",
        "colab": {
          "base_uri": "https://localhost:8080/",
          "height": 173
        }
      },
      "source": [
        "regressor = GradientBoostingRegressor(\n",
        "    max_depth=2,\n",
        "    n_estimators=3,\n",
        "    learning_rate=0.05\n",
        ")\n",
        "regressor.fit(X_train, y_train)"
      ],
      "execution_count": 0,
      "outputs": [
        {
          "output_type": "execute_result",
          "data": {
            "text/plain": [
              "GradientBoostingRegressor(alpha=0.9, ccp_alpha=0.0, criterion='friedman_mse',\n",
              "                          init=None, learning_rate=0.05, loss='ls', max_depth=2,\n",
              "                          max_features=None, max_leaf_nodes=None,\n",
              "                          min_impurity_decrease=0.0, min_impurity_split=None,\n",
              "                          min_samples_leaf=1, min_samples_split=2,\n",
              "                          min_weight_fraction_leaf=0.0, n_estimators=3,\n",
              "                          n_iter_no_change=None, presort='deprecated',\n",
              "                          random_state=None, subsample=1.0, tol=0.0001,\n",
              "                          validation_fraction=0.1, verbose=0, warm_start=False)"
            ]
          },
          "metadata": {
            "tags": []
          },
          "execution_count": 105
        }
      ]
    },
    {
      "cell_type": "code",
      "metadata": {
        "id": "lgnknjRrh2Ef",
        "colab_type": "code",
        "colab": {}
      },
      "source": [
        "errors = [mean_squared_error(y_test, y_pred) for y_pred in regressor.staged_predict(X_test)]\n",
        "best_n_estimators = np.argmin(errors)"
      ],
      "execution_count": 0,
      "outputs": []
    },
    {
      "cell_type": "code",
      "metadata": {
        "id": "XMsx1rA2gVyS",
        "colab_type": "code",
        "outputId": "e520ae42-ed20-43b7-8b03-cbd773f4ecec",
        "colab": {
          "base_uri": "https://localhost:8080/",
          "height": 173
        }
      },
      "source": [
        "best_regressor = GradientBoostingRegressor(\n",
        "    max_depth=2,\n",
        "    n_estimators=best_n_estimators,\n",
        "    learning_rate=1.0\n",
        ")\n",
        "best_regressor.fit(X_train, y_train)"
      ],
      "execution_count": 0,
      "outputs": [
        {
          "output_type": "execute_result",
          "data": {
            "text/plain": [
              "GradientBoostingRegressor(alpha=0.9, ccp_alpha=0.0, criterion='friedman_mse',\n",
              "                          init=None, learning_rate=1.0, loss='ls', max_depth=2,\n",
              "                          max_features=None, max_leaf_nodes=None,\n",
              "                          min_impurity_decrease=0.0, min_impurity_split=None,\n",
              "                          min_samples_leaf=1, min_samples_split=2,\n",
              "                          min_weight_fraction_leaf=0.0, n_estimators=2,\n",
              "                          n_iter_no_change=None, presort='deprecated',\n",
              "                          random_state=None, subsample=1.0, tol=0.0001,\n",
              "                          validation_fraction=0.1, verbose=0, warm_start=False)"
            ]
          },
          "metadata": {
            "tags": []
          },
          "execution_count": 107
        }
      ]
    },
    {
      "cell_type": "code",
      "metadata": {
        "id": "PGhTt5iNgZT4",
        "colab_type": "code",
        "colab": {}
      },
      "source": [
        "reg_pred = best_regressor.predict(X_test)"
      ],
      "execution_count": 0,
      "outputs": []
    },
    {
      "cell_type": "code",
      "metadata": {
        "id": "5WqAgzz-g7kU",
        "colab_type": "code",
        "colab": {}
      },
      "source": [
        "from sklearn import metrics"
      ],
      "execution_count": 0,
      "outputs": []
    },
    {
      "cell_type": "code",
      "metadata": {
        "id": "grponeuzgy8I",
        "colab_type": "code",
        "outputId": "3990a8b7-45c1-4272-911e-9d6e1915a0dc",
        "colab": {
          "base_uri": "https://localhost:8080/",
          "height": 69
        }
      },
      "source": [
        "print('MAE:', metrics.mean_absolute_error(y_test,reg_pred))\n",
        "print('MSE:',metrics.mean_squared_error(y_test,reg_pred))\n",
        "print('RMSE:', np.sqrt(metrics.mean_squared_error(y_test,reg_pred)))"
      ],
      "execution_count": 0,
      "outputs": [
        {
          "output_type": "stream",
          "text": [
            "MAE: 4.655082243647228\n",
            "MSE: 42.067948526974995\n",
            "RMSE: 6.485980922495455\n"
          ],
          "name": "stdout"
        }
      ]
    },
    {
      "cell_type": "code",
      "metadata": {
        "id": "cvpwL1l_g1bb",
        "colab_type": "code",
        "colab": {}
      },
      "source": [
        "cat_DTC_preds = best_regressor.predict(test)"
      ],
      "execution_count": 0,
      "outputs": []
    },
    {
      "cell_type": "code",
      "metadata": {
        "id": "ogXUGC6GhUuu",
        "colab_type": "code",
        "colab": {}
      },
      "source": [
        "real_DTC_values = valid['DTC']"
      ],
      "execution_count": 0,
      "outputs": []
    },
    {
      "cell_type": "code",
      "metadata": {
        "id": "A2A6YYgWhZmp",
        "colab_type": "code",
        "outputId": "4e82d643-b074-447c-8046-61f359497a4b",
        "colab": {
          "base_uri": "https://localhost:8080/",
          "height": 34
        }
      },
      "source": [
        "print('Root Mean Square Error is:', '{:.5f}'.format(np.sqrt(mean_squared_error(real_DTC_values, cat_DTC_preds))))"
      ],
      "execution_count": 0,
      "outputs": [
        {
          "output_type": "stream",
          "text": [
            "Root Mean Square Error is: 6.16864\n"
          ],
          "name": "stdout"
        }
      ]
    },
    {
      "cell_type": "markdown",
      "metadata": {
        "id": "gg8uVrakjp6Z",
        "colab_type": "text"
      },
      "source": [
        "# Making DTS Prediction"
      ]
    },
    {
      "cell_type": "code",
      "metadata": {
        "id": "oduFw3HfhdfU",
        "colab_type": "code",
        "colab": {}
      },
      "source": [
        "X=df1.drop([\"DTC\",\"DTS\",],axis =1)\n",
        "y = df1.DTS"
      ],
      "execution_count": 0,
      "outputs": []
    },
    {
      "cell_type": "code",
      "metadata": {
        "id": "kkz2af29kKRq",
        "colab_type": "code",
        "colab": {}
      },
      "source": [
        "# train test split\n",
        "# please remember to use random_state for all randomization steps, this will ensure we get the same results \n",
        "# as yours during the validation phase. \n",
        "X_train, X_test, y_train, y_test = train_test_split(X, y,test_size=0.1 ,random_state=1234)\n"
      ],
      "execution_count": 0,
      "outputs": []
    },
    {
      "cell_type": "code",
      "metadata": {
        "id": "FNQnyi3KkNrq",
        "colab_type": "code",
        "outputId": "ea8b98b9-5e3e-4a53-e4a7-dbc69deeb897",
        "colab": {
          "base_uri": "https://localhost:8080/",
          "height": 173
        }
      },
      "source": [
        "regressor = GradientBoostingRegressor(\n",
        "    max_depth=2,\n",
        "    n_estimators=3,\n",
        "    learning_rate=0.05\n",
        ")\n",
        "regressor.fit(X_train, y_train)"
      ],
      "execution_count": 0,
      "outputs": [
        {
          "output_type": "execute_result",
          "data": {
            "text/plain": [
              "GradientBoostingRegressor(alpha=0.9, ccp_alpha=0.0, criterion='friedman_mse',\n",
              "                          init=None, learning_rate=0.05, loss='ls', max_depth=2,\n",
              "                          max_features=None, max_leaf_nodes=None,\n",
              "                          min_impurity_decrease=0.0, min_impurity_split=None,\n",
              "                          min_samples_leaf=1, min_samples_split=2,\n",
              "                          min_weight_fraction_leaf=0.0, n_estimators=3,\n",
              "                          n_iter_no_change=None, presort='deprecated',\n",
              "                          random_state=None, subsample=1.0, tol=0.0001,\n",
              "                          validation_fraction=0.1, verbose=0, warm_start=False)"
            ]
          },
          "metadata": {
            "tags": []
          },
          "execution_count": 116
        }
      ]
    },
    {
      "cell_type": "code",
      "metadata": {
        "id": "kNd92fjgkQek",
        "colab_type": "code",
        "colab": {}
      },
      "source": [
        "errors = [mean_squared_error(y_test, y_pred) for y_pred in regressor.staged_predict(X_test)]\n",
        "best_n_estimators = np.argmin(errors)"
      ],
      "execution_count": 0,
      "outputs": []
    },
    {
      "cell_type": "code",
      "metadata": {
        "id": "nDH0GEhWkTjL",
        "colab_type": "code",
        "outputId": "56886483-ad1c-4821-cd7e-a23d05c87c60",
        "colab": {
          "base_uri": "https://localhost:8080/",
          "height": 173
        }
      },
      "source": [
        "best_regressor = GradientBoostingRegressor(\n",
        "    max_depth=2,\n",
        "    n_estimators=best_n_estimators,\n",
        "    learning_rate=1.0\n",
        ")\n",
        "best_regressor.fit(X_train, y_train)"
      ],
      "execution_count": 0,
      "outputs": [
        {
          "output_type": "execute_result",
          "data": {
            "text/plain": [
              "GradientBoostingRegressor(alpha=0.9, ccp_alpha=0.0, criterion='friedman_mse',\n",
              "                          init=None, learning_rate=1.0, loss='ls', max_depth=2,\n",
              "                          max_features=None, max_leaf_nodes=None,\n",
              "                          min_impurity_decrease=0.0, min_impurity_split=None,\n",
              "                          min_samples_leaf=1, min_samples_split=2,\n",
              "                          min_weight_fraction_leaf=0.0, n_estimators=2,\n",
              "                          n_iter_no_change=None, presort='deprecated',\n",
              "                          random_state=None, subsample=1.0, tol=0.0001,\n",
              "                          validation_fraction=0.1, verbose=0, warm_start=False)"
            ]
          },
          "metadata": {
            "tags": []
          },
          "execution_count": 118
        }
      ]
    },
    {
      "cell_type": "code",
      "metadata": {
        "id": "6puAe5BvkWIr",
        "colab_type": "code",
        "colab": {}
      },
      "source": [
        "reg_pred = best_regressor.predict(X_test)"
      ],
      "execution_count": 0,
      "outputs": []
    },
    {
      "cell_type": "code",
      "metadata": {
        "id": "lmT8KLtrkadQ",
        "colab_type": "code",
        "outputId": "e8da92f5-6225-4cbb-92d2-0a59c83c04ed",
        "colab": {
          "base_uri": "https://localhost:8080/",
          "height": 69
        }
      },
      "source": [
        "print('MAE:', metrics.mean_absolute_error(y_test,reg_pred))\n",
        "print('MSE:',metrics.mean_squared_error(y_test,reg_pred))\n",
        "print('RMSE:', np.sqrt(metrics.mean_squared_error(y_test,reg_pred)))"
      ],
      "execution_count": 0,
      "outputs": [
        {
          "output_type": "stream",
          "text": [
            "MAE: 12.54505603451885\n",
            "MSE: 356.0922587536634\n",
            "RMSE: 18.87040695781793\n"
          ],
          "name": "stdout"
        }
      ]
    },
    {
      "cell_type": "markdown",
      "metadata": {
        "id": "2AJtETK1lOEZ",
        "colab_type": "text"
      },
      "source": [
        "# Checking model performance on DTS"
      ]
    },
    {
      "cell_type": "code",
      "metadata": {
        "id": "xSeHkF1UkdPn",
        "colab_type": "code",
        "colab": {}
      },
      "source": [
        "cat_DTS_preds = best_regressor.predict(test)"
      ],
      "execution_count": 0,
      "outputs": []
    },
    {
      "cell_type": "code",
      "metadata": {
        "id": "AmqjkHfmk9sn",
        "colab_type": "code",
        "colab": {}
      },
      "source": [
        "real_DTS_values = valid['DTS']"
      ],
      "execution_count": 0,
      "outputs": []
    },
    {
      "cell_type": "code",
      "metadata": {
        "id": "vCuHaTG7lE5Z",
        "colab_type": "code",
        "outputId": "24e5b296-57b5-42f7-d282-7c9f411eb31a",
        "colab": {
          "base_uri": "https://localhost:8080/",
          "height": 34
        }
      },
      "source": [
        "print('Root Mean Square Error is:', '{:.5f}'.format(np.sqrt(mean_squared_error(real_DTS_values, cat_DTS_preds))))"
      ],
      "execution_count": 0,
      "outputs": [
        {
          "output_type": "stream",
          "text": [
            "Root Mean Square Error is: 28.87236\n"
          ],
          "name": "stdout"
        }
      ]
    },
    {
      "cell_type": "markdown",
      "metadata": {
        "id": "nv5GO6C8lb95",
        "colab_type": "text"
      },
      "source": [
        "# Checking Overall Gradient Boosting Model Performance"
      ]
    },
    {
      "cell_type": "code",
      "metadata": {
        "id": "NaEZBaZPlTXp",
        "colab_type": "code",
        "colab": {}
      },
      "source": [
        "results = pd.DataFrame(columns=['DTC','DTS'])"
      ],
      "execution_count": 0,
      "outputs": []
    },
    {
      "cell_type": "code",
      "metadata": {
        "id": "ezEr2Tzzlago",
        "colab_type": "code",
        "outputId": "84d971fb-ed24-4347-e620-a83e400bc771",
        "colab": {
          "base_uri": "https://localhost:8080/",
          "height": 202
        }
      },
      "source": [
        "results['DTC'] = cat_DTC_preds\n",
        "results['DTS'] = cat_DTS_preds\n",
        "results.head()"
      ],
      "execution_count": 0,
      "outputs": [
        {
          "output_type": "execute_result",
          "data": {
            "text/html": [
              "<div>\n",
              "<style scoped>\n",
              "    .dataframe tbody tr th:only-of-type {\n",
              "        vertical-align: middle;\n",
              "    }\n",
              "\n",
              "    .dataframe tbody tr th {\n",
              "        vertical-align: top;\n",
              "    }\n",
              "\n",
              "    .dataframe thead th {\n",
              "        text-align: right;\n",
              "    }\n",
              "</style>\n",
              "<table border=\"1\" class=\"dataframe\">\n",
              "  <thead>\n",
              "    <tr style=\"text-align: right;\">\n",
              "      <th></th>\n",
              "      <th>DTC</th>\n",
              "      <th>DTS</th>\n",
              "    </tr>\n",
              "  </thead>\n",
              "  <tbody>\n",
              "    <tr>\n",
              "      <th>0</th>\n",
              "      <td>73.703677</td>\n",
              "      <td>133.283763</td>\n",
              "    </tr>\n",
              "    <tr>\n",
              "      <th>1</th>\n",
              "      <td>90.322720</td>\n",
              "      <td>202.983293</td>\n",
              "    </tr>\n",
              "    <tr>\n",
              "      <th>2</th>\n",
              "      <td>90.322720</td>\n",
              "      <td>188.590044</td>\n",
              "    </tr>\n",
              "    <tr>\n",
              "      <th>3</th>\n",
              "      <td>73.703677</td>\n",
              "      <td>133.283763</td>\n",
              "    </tr>\n",
              "    <tr>\n",
              "      <th>4</th>\n",
              "      <td>73.703677</td>\n",
              "      <td>133.283763</td>\n",
              "    </tr>\n",
              "  </tbody>\n",
              "</table>\n",
              "</div>"
            ],
            "text/plain": [
              "         DTC         DTS\n",
              "0  73.703677  133.283763\n",
              "1  90.322720  202.983293\n",
              "2  90.322720  188.590044\n",
              "3  73.703677  133.283763\n",
              "4  73.703677  133.283763"
            ]
          },
          "metadata": {
            "tags": []
          },
          "execution_count": 128
        }
      ]
    },
    {
      "cell_type": "code",
      "metadata": {
        "id": "Og6YA5Axlprz",
        "colab_type": "code",
        "colab": {}
      },
      "source": [
        "results_data = np.array(results)"
      ],
      "execution_count": 0,
      "outputs": []
    },
    {
      "cell_type": "code",
      "metadata": {
        "id": "UfC1S62OluxX",
        "colab_type": "code",
        "colab": {}
      },
      "source": [
        "valid_data = np.array(valid)\n",
        "y_real = valid_data[:,-2:]"
      ],
      "execution_count": 0,
      "outputs": []
    },
    {
      "cell_type": "code",
      "metadata": {
        "id": "KC9yFF6Zlx7w",
        "colab_type": "code",
        "outputId": "4fa43706-5687-4bd1-a8d5-28f88c897456",
        "colab": {
          "base_uri": "https://localhost:8080/",
          "height": 34
        }
      },
      "source": [
        " print('Root Mean Square Error is:', '{:.5f}'.format(np.sqrt(mean_squared_error(y_real, results))))"
      ],
      "execution_count": 0,
      "outputs": [
        {
          "output_type": "stream",
          "text": [
            "Root Mean Square Error is: 20.87661\n"
          ],
          "name": "stdout"
        }
      ]
    },
    {
      "cell_type": "code",
      "metadata": {
        "id": "sWhCia68l09Q",
        "colab_type": "code",
        "colab": {}
      },
      "source": [
        ""
      ],
      "execution_count": 0,
      "outputs": []
    }
  ]
}